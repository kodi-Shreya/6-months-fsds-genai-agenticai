{
 "cells": [
  {
   "cell_type": "markdown",
   "id": "b3ee8a8a-ba05-4c8a-a6ca-3037aa5ab935",
   "metadata": {},
   "source": [
    "Import math module"
   ]
  },
  {
   "cell_type": "code",
   "execution_count": 2,
   "id": "3f46a13c-020e-4efa-84cd-922bfd1f6af1",
   "metadata": {},
   "outputs": [
    {
     "ename": "NameError",
     "evalue": "name 'sqrt' is not defined",
     "output_type": "error",
     "traceback": [
      "\u001b[1;31m---------------------------------------------------------------------------\u001b[0m",
      "\u001b[1;31mNameError\u001b[0m                                 Traceback (most recent call last)",
      "Cell \u001b[1;32mIn[2], line 1\u001b[0m\n\u001b[1;32m----> 1\u001b[0m x\u001b[38;5;241m=\u001b[39msqrt(\u001b[38;5;241m25\u001b[39m)\n",
      "\u001b[1;31mNameError\u001b[0m: name 'sqrt' is not defined"
     ]
    }
   ],
   "source": [
    "x=sqrt(25)"
   ]
  },
  {
   "cell_type": "code",
   "execution_count": 3,
   "id": "4456957a-7e6c-4907-b948-ddf098e175e9",
   "metadata": {},
   "outputs": [],
   "source": [
    "import math\n"
   ]
  },
  {
   "cell_type": "code",
   "execution_count": 4,
   "id": "daa3a68c-5682-4fbe-b27f-87bbd455582a",
   "metadata": {},
   "outputs": [
    {
     "data": {
      "text/plain": [
       "5.0"
      ]
     },
     "execution_count": 4,
     "metadata": {},
     "output_type": "execute_result"
    }
   ],
   "source": [
    "x=math.sqrt(25)\n",
    "x"
   ]
  },
  {
   "cell_type": "code",
   "execution_count": 5,
   "id": "43cc485a-f804-4911-a85d-7ffd70fbba24",
   "metadata": {},
   "outputs": [
    {
     "data": {
      "text/plain": [
       "3.872983346207417"
      ]
     },
     "execution_count": 5,
     "metadata": {},
     "output_type": "execute_result"
    }
   ],
   "source": [
    "x1=math.sqrt(15)\n",
    "x1"
   ]
  },
  {
   "cell_type": "code",
   "execution_count": 6,
   "id": "f8a18074-0f99-4a0b-a92d-ddb6dfe4914b",
   "metadata": {},
   "outputs": [
    {
     "name": "stdout",
     "output_type": "stream",
     "text": [
      "2\n"
     ]
    }
   ],
   "source": [
    "print(math.floor(2.9))"
   ]
  },
  {
   "cell_type": "code",
   "execution_count": 7,
   "id": "8c9e33b3-adb7-445b-beb2-55b0bb1c2b5f",
   "metadata": {},
   "outputs": [
    {
     "name": "stdout",
     "output_type": "stream",
     "text": [
      "3\n"
     ]
    }
   ],
   "source": [
    "print(math.ceil(2.9))"
   ]
  },
  {
   "cell_type": "code",
   "execution_count": 8,
   "id": "d5c7eb29-e133-4fe8-afef-3782b7c2b9fd",
   "metadata": {},
   "outputs": [
    {
     "name": "stdout",
     "output_type": "stream",
     "text": [
      "9.0\n"
     ]
    }
   ],
   "source": [
    "print(math.pow(3,2))"
   ]
  },
  {
   "cell_type": "code",
   "execution_count": 9,
   "id": "d7f59d94-8615-477b-ade9-14bb0e1eec0b",
   "metadata": {},
   "outputs": [
    {
     "name": "stdout",
     "output_type": "stream",
     "text": [
      "3.141592653589793\n"
     ]
    }
   ],
   "source": [
    "print(math.pi)"
   ]
  },
  {
   "cell_type": "code",
   "execution_count": 10,
   "id": "64c6b83e-4211-4d41-a690-73d3afdc7d51",
   "metadata": {},
   "outputs": [
    {
     "name": "stdout",
     "output_type": "stream",
     "text": [
      "2.718281828459045\n"
     ]
    }
   ],
   "source": [
    "print(math.e)"
   ]
  },
  {
   "cell_type": "code",
   "execution_count": 11,
   "id": "c7fb1928-ccc4-43bd-bf32-cd65d32df57d",
   "metadata": {},
   "outputs": [
    {
     "data": {
      "text/plain": [
       "3.1622776601683795"
      ]
     },
     "execution_count": 11,
     "metadata": {},
     "output_type": "execute_result"
    }
   ],
   "source": [
    "import math as m\n",
    "m.sqrt(10)"
   ]
  },
  {
   "cell_type": "code",
   "execution_count": 12,
   "id": "8b141d3b-2004-4d00-9442-b1a2344fc5a0",
   "metadata": {},
   "outputs": [
    {
     "data": {
      "text/plain": [
       "8.0"
      ]
     },
     "execution_count": 12,
     "metadata": {},
     "output_type": "execute_result"
    }
   ],
   "source": [
    "from math import sqrt,pow\n",
    "pow(2,3)"
   ]
  },
  {
   "cell_type": "code",
   "execution_count": 13,
   "id": "77e2e605-0a6a-446f-ac23-ffed4fe61b19",
   "metadata": {},
   "outputs": [
    {
     "data": {
      "text/plain": [
       "8"
      ]
     },
     "execution_count": 13,
     "metadata": {},
     "output_type": "execute_result"
    }
   ],
   "source": [
    "round(pow(2,3))"
   ]
  },
  {
   "cell_type": "markdown",
   "id": "9d9d2d1f-73c2-4551-b2ab-f7d8762d0c74",
   "metadata": {},
   "source": [
    "Input function"
   ]
  },
  {
   "cell_type": "code",
   "execution_count": 14,
   "id": "d46def37-3200-433e-a842-c21ece45767a",
   "metadata": {},
   "outputs": [
    {
     "name": "stdin",
     "output_type": "stream",
     "text": [
      " 5\n",
      " 5\n"
     ]
    },
    {
     "name": "stdout",
     "output_type": "stream",
     "text": [
      "55\n"
     ]
    }
   ],
   "source": [
    "x=input()\n",
    "y=input()\n",
    "z=x+y\n",
    "print(z)"
   ]
  },
  {
   "cell_type": "code",
   "execution_count": 15,
   "id": "94749d62-33ee-47d0-9acd-b9a9c1477c09",
   "metadata": {},
   "outputs": [
    {
     "name": "stdin",
     "output_type": "stream",
     "text": [
      "Enter the 1st number 6\n",
      "Enter the 2nd number 7\n"
     ]
    },
    {
     "name": "stdout",
     "output_type": "stream",
     "text": [
      "67\n"
     ]
    }
   ],
   "source": [
    "x1=input('Enter the 1st number')\n",
    "y1=input('Enter the 2nd number')\n",
    "z1=x1+y1\n",
    "print(z1)"
   ]
  },
  {
   "cell_type": "code",
   "execution_count": 16,
   "id": "d4235319-16ba-4981-b3ad-de32dfb047a1",
   "metadata": {},
   "outputs": [
    {
     "data": {
      "text/plain": [
       "str"
      ]
     },
     "execution_count": 16,
     "metadata": {},
     "output_type": "execute_result"
    }
   ],
   "source": [
    "type(x1)\n",
    "type(y1)"
   ]
  },
  {
   "cell_type": "code",
   "execution_count": 17,
   "id": "1df30cfe-1ea8-45b9-bc5a-efa13f97ff7f",
   "metadata": {},
   "outputs": [
    {
     "name": "stdin",
     "output_type": "stream",
     "text": [
      "Enter the 1st number 8\n",
      "Enter the 2nd number 8\n"
     ]
    },
    {
     "name": "stdout",
     "output_type": "stream",
     "text": [
      "16\n"
     ]
    }
   ],
   "source": [
    "x1=input('Enter the 1st number')\n",
    "a1=int(x1)\n",
    "y1=input('Enter the 2nd number')\n",
    "b1=int(y1)\n",
    "z1=a1+b1\n",
    "print(z1)"
   ]
  },
  {
   "cell_type": "code",
   "execution_count": 18,
   "id": "0185646c-4201-4d01-a2f4-5277409ea385",
   "metadata": {},
   "outputs": [
    {
     "name": "stdin",
     "output_type": "stream",
     "text": [
      "Enter the 1st number 5\n",
      "Enter the 2nd number 5\n"
     ]
    },
    {
     "data": {
      "text/plain": [
       "10"
      ]
     },
     "execution_count": 18,
     "metadata": {},
     "output_type": "execute_result"
    }
   ],
   "source": [
    "x2=int(input('Enter the 1st number'))\n",
    "y2=int(input('Enter the 2nd number'))\n",
    "z2=x2+y2\n",
    "z2"
   ]
  },
  {
   "cell_type": "code",
   "execution_count": 19,
   "id": "fcab3774-df75-4f35-96c4-1091ff3cc2f9",
   "metadata": {},
   "outputs": [
    {
     "name": "stdin",
     "output_type": "stream",
     "text": [
      "enter a char hello\n"
     ]
    },
    {
     "name": "stdout",
     "output_type": "stream",
     "text": [
      "hello\n"
     ]
    }
   ],
   "source": [
    "ch=input('enter a char')\n",
    "print(ch)"
   ]
  },
  {
   "cell_type": "code",
   "execution_count": 20,
   "id": "3b872c16-434a-40cc-9e6e-a134455ecb3c",
   "metadata": {},
   "outputs": [
    {
     "name": "stdout",
     "output_type": "stream",
     "text": [
      "h\n"
     ]
    }
   ],
   "source": [
    "print(ch[0])"
   ]
  },
  {
   "cell_type": "code",
   "execution_count": 21,
   "id": "44eb5b1b-2daa-48b0-971c-59c7ccf0698c",
   "metadata": {},
   "outputs": [
    {
     "name": "stdout",
     "output_type": "stream",
     "text": [
      "o\n"
     ]
    }
   ],
   "source": [
    "print(ch[-1])"
   ]
  },
  {
   "cell_type": "code",
   "execution_count": 22,
   "id": "7060df7c-939b-44e4-ad6c-966645bb5b25",
   "metadata": {},
   "outputs": [
    {
     "name": "stdout",
     "output_type": "stream",
     "text": [
      "e\n"
     ]
    }
   ],
   "source": [
    "print(ch[1])"
   ]
  },
  {
   "cell_type": "code",
   "execution_count": 23,
   "id": "68099922-b3af-4811-9f91-6da930b74d6f",
   "metadata": {},
   "outputs": [
    {
     "name": "stdin",
     "output_type": "stream",
     "text": [
      "enter a char rainy\n"
     ]
    },
    {
     "name": "stdout",
     "output_type": "stream",
     "text": [
      "r\n"
     ]
    }
   ],
   "source": [
    "ch=input('enter a char')[0]\n",
    "print(ch)"
   ]
  },
  {
   "cell_type": "code",
   "execution_count": 24,
   "id": "7dc57387-d540-4471-9d97-f55bb3835459",
   "metadata": {},
   "outputs": [
    {
     "name": "stdin",
     "output_type": "stream",
     "text": [
      "enter a char hello\n"
     ]
    },
    {
     "name": "stdout",
     "output_type": "stream",
     "text": [
      "el\n"
     ]
    }
   ],
   "source": [
    "ch=input('enter a char')[1:3]\n",
    "print(ch)"
   ]
  },
  {
   "cell_type": "code",
   "execution_count": 25,
   "id": "ee7153a5-5003-4c18-8cee-ba6513c0d3e5",
   "metadata": {},
   "outputs": [
    {
     "name": "stdin",
     "output_type": "stream",
     "text": [
      "enter a char hello\n"
     ]
    },
    {
     "name": "stdout",
     "output_type": "stream",
     "text": [
      "hello\n"
     ]
    }
   ],
   "source": [
    "ch=input('enter a char')\n",
    "print(ch)"
   ]
  },
  {
   "cell_type": "markdown",
   "id": "30035f92-6522-40f7-af7a-7b1832e3a564",
   "metadata": {},
   "source": [
    "Eval function"
   ]
  },
  {
   "cell_type": "code",
   "execution_count": 26,
   "id": "3355ab17-9a1f-4f4e-b34d-ce0eb8ece3a6",
   "metadata": {},
   "outputs": [
    {
     "name": "stdin",
     "output_type": "stream",
     "text": [
      "enter an expr 2+3*3-5\n"
     ]
    },
    {
     "name": "stdout",
     "output_type": "stream",
     "text": [
      "6\n"
     ]
    }
   ],
   "source": [
    "result=eval(input('enter an expr'))\n",
    "print(result)"
   ]
  },
  {
   "cell_type": "code",
   "execution_count": null,
   "id": "5e2c6348-7480-431c-88ee-11f8e5d3559a",
   "metadata": {},
   "outputs": [],
   "source": []
  }
 ],
 "metadata": {
  "kernelspec": {
   "display_name": "Python [conda env:base] *",
   "language": "python",
   "name": "conda-base-py"
  },
  "language_info": {
   "codemirror_mode": {
    "name": "ipython",
    "version": 3
   },
   "file_extension": ".py",
   "mimetype": "text/x-python",
   "name": "python",
   "nbconvert_exporter": "python",
   "pygments_lexer": "ipython3",
   "version": "3.12.7"
  }
 },
 "nbformat": 4,
 "nbformat_minor": 5
}
