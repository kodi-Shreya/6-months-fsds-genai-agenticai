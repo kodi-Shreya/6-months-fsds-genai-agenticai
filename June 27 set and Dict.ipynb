{
 "cells": [
  {
   "cell_type": "code",
   "execution_count": 1,
   "id": "ad6af82f-dae2-4397-a6f8-8e8359974381",
   "metadata": {},
   "outputs": [
    {
     "data": {
      "text/plain": [
       "{1, 2, 3, 4, 5}"
      ]
     },
     "execution_count": 1,
     "metadata": {},
     "output_type": "execute_result"
    }
   ],
   "source": [
    "myset={1,2,3,4,5}\n",
    "myset"
   ]
  },
  {
   "cell_type": "code",
   "execution_count": 2,
   "id": "4cc158fe-4fe6-46db-8d5a-6c4a5996d659",
   "metadata": {},
   "outputs": [
    {
     "data": {
      "text/plain": [
       "5"
      ]
     },
     "execution_count": 2,
     "metadata": {},
     "output_type": "execute_result"
    }
   ],
   "source": [
    "len(myset)"
   ]
  },
  {
   "cell_type": "code",
   "execution_count": 3,
   "id": "e30c0cb6-2011-472b-b879-b526f1ee65f2",
   "metadata": {},
   "outputs": [
    {
     "data": {
      "text/plain": [
       "{1, 2, 3, 4, 5}"
      ]
     },
     "execution_count": 3,
     "metadata": {},
     "output_type": "execute_result"
    }
   ],
   "source": [
    "my_set={1,1,2,2,3,4,5,5}\n",
    "my_set"
   ]
  },
  {
   "cell_type": "code",
   "execution_count": 4,
   "id": "d23b415f-563c-424d-935d-32a45d1980ab",
   "metadata": {},
   "outputs": [
    {
     "data": {
      "text/plain": [
       "{1.79, 2.08, 3.99, 4.56, 5.45}"
      ]
     },
     "execution_count": 4,
     "metadata": {},
     "output_type": "execute_result"
    }
   ],
   "source": [
    "myset1={1.79,2.08,3.99,4.56,5.45}\n",
    "myset1"
   ]
  },
  {
   "cell_type": "code",
   "execution_count": 5,
   "id": "682b8f1e-d5d7-42d8-969f-eb9c11b485c4",
   "metadata": {},
   "outputs": [
    {
     "data": {
      "text/plain": [
       "{'Asif', 'John', 'Tyrion'}"
      ]
     },
     "execution_count": 5,
     "metadata": {},
     "output_type": "execute_result"
    }
   ],
   "source": [
    "myset2={'Asif','John','Tyrion'}\n",
    "myset2"
   ]
  },
  {
   "cell_type": "code",
   "execution_count": 6,
   "id": "e6ac9ec0-a814-4d52-8b32-3d2babe039af",
   "metadata": {},
   "outputs": [
    {
     "data": {
      "text/plain": [
       "{(11, 22, 33), 10, 20, 'Hola'}"
      ]
     },
     "execution_count": 6,
     "metadata": {},
     "output_type": "execute_result"
    }
   ],
   "source": [
    "myset3={10,20,\"Hola\",(11,22,33)}\n",
    "myset3"
   ]
  },
  {
   "cell_type": "code",
   "execution_count": 7,
   "id": "7f976c10-fd87-45bc-a3bb-a85dc1450e09",
   "metadata": {},
   "outputs": [
    {
     "ename": "TypeError",
     "evalue": "unhashable type: 'list'",
     "output_type": "error",
     "traceback": [
      "\u001b[1;31m---------------------------------------------------------------------------\u001b[0m",
      "\u001b[1;31mTypeError\u001b[0m                                 Traceback (most recent call last)",
      "Cell \u001b[1;32mIn[7], line 1\u001b[0m\n\u001b[1;32m----> 1\u001b[0m myset3\u001b[38;5;241m=\u001b[39m{\u001b[38;5;241m10\u001b[39m,\u001b[38;5;241m20\u001b[39m,\u001b[38;5;124m\"\u001b[39m\u001b[38;5;124mHola\u001b[39m\u001b[38;5;124m\"\u001b[39m,[\u001b[38;5;241m11\u001b[39m,\u001b[38;5;241m22\u001b[39m,\u001b[38;5;241m33\u001b[39m]}\n\u001b[0;32m      2\u001b[0m myset3\n",
      "\u001b[1;31mTypeError\u001b[0m: unhashable type: 'list'"
     ]
    }
   ],
   "source": [
    "myset3={10,20,\"Hola\",[11,22,33]}\n",
    "myset3"
   ]
  },
  {
   "cell_type": "code",
   "execution_count": 8,
   "id": "0db45b8f-9a3b-401b-bb3f-76ceb8b7c5f6",
   "metadata": {},
   "outputs": [
    {
     "name": "stdout",
     "output_type": "stream",
     "text": [
      "<class 'set'>\n"
     ]
    }
   ],
   "source": [
    "myset4=set()\n",
    "print(type(myset4))"
   ]
  },
  {
   "cell_type": "code",
   "execution_count": 9,
   "id": "ef23da85-f8b0-4772-b9f1-91f82d166586",
   "metadata": {},
   "outputs": [
    {
     "data": {
      "text/plain": [
       "{'four', 'one', 'three', 'two'}"
      ]
     },
     "execution_count": 9,
     "metadata": {},
     "output_type": "execute_result"
    }
   ],
   "source": [
    "my_set1=set(('one','two','three','four'))\n",
    "my_set1"
   ]
  },
  {
   "cell_type": "markdown",
   "id": "c66637e2-8b00-41b7-bdba-ce91981e91b3",
   "metadata": {},
   "source": [
    "Loop through a set"
   ]
  },
  {
   "cell_type": "code",
   "execution_count": 15,
   "id": "357f029f-d1bd-41b5-ae8a-9ed89189cfca",
   "metadata": {},
   "outputs": [
    {
     "name": "stdout",
     "output_type": "stream",
     "text": [
      "five\n",
      "eight\n",
      "six\n",
      "two\n",
      "one\n",
      "seven\n",
      "three\n",
      "four\n"
     ]
    }
   ],
   "source": [
    "myset={'one','two','three','four','five','six','seven','eight'}\n",
    "for i in myset:\n",
    "    print(i)"
   ]
  },
  {
   "cell_type": "code",
   "execution_count": 12,
   "id": "04e53731-c4f4-44c3-98f8-d2a1ebea1d09",
   "metadata": {},
   "outputs": [
    {
     "name": "stdout",
     "output_type": "stream",
     "text": [
      "(0, 'five')\n",
      "(1, 'eight')\n",
      "(2, 'six')\n",
      "(3, 'two')\n",
      "(4, 'one')\n",
      "(5, 'seven')\n",
      "(6, 'three')\n",
      "(7, 'four')\n"
     ]
    }
   ],
   "source": [
    "for i in enumerate(myset):\n",
    "    print(i)"
   ]
  },
  {
   "cell_type": "markdown",
   "id": "d2ffedd3-998b-4f2d-b7be-4e850dab93af",
   "metadata": {},
   "source": [
    "Set membership"
   ]
  },
  {
   "cell_type": "code",
   "execution_count": 16,
   "id": "928e4c48-4474-473d-8cde-93cf697129e9",
   "metadata": {},
   "outputs": [
    {
     "data": {
      "text/plain": [
       "{'eight', 'five', 'four', 'one', 'seven', 'six', 'three', 'two'}"
      ]
     },
     "execution_count": 16,
     "metadata": {},
     "output_type": "execute_result"
    }
   ],
   "source": [
    "myset"
   ]
  },
  {
   "cell_type": "code",
   "execution_count": 17,
   "id": "94067d41-d7b1-40ba-bc2d-a4b15573908f",
   "metadata": {},
   "outputs": [
    {
     "data": {
      "text/plain": [
       "True"
      ]
     },
     "execution_count": 17,
     "metadata": {},
     "output_type": "execute_result"
    }
   ],
   "source": [
    "'one' in myset"
   ]
  },
  {
   "cell_type": "code",
   "execution_count": 18,
   "id": "4cab207b-38d3-4180-b018-c08c710931fb",
   "metadata": {},
   "outputs": [
    {
     "data": {
      "text/plain": [
       "False"
      ]
     },
     "execution_count": 18,
     "metadata": {},
     "output_type": "execute_result"
    }
   ],
   "source": [
    "'ten' in myset"
   ]
  },
  {
   "cell_type": "code",
   "execution_count": 19,
   "id": "90b1697b-0335-4c7b-b1b5-af05ea41b827",
   "metadata": {},
   "outputs": [
    {
     "name": "stdout",
     "output_type": "stream",
     "text": [
      "Three is present in the set\n"
     ]
    }
   ],
   "source": [
    "if'three'in myset:\n",
    "    print('Three is present in the set')\n",
    "else:\n",
    "    print('Three is not present in the set')"
   ]
  },
  {
   "cell_type": "code",
   "execution_count": 20,
   "id": "1d6ea533-4265-4031-a614-64ee926f8ceb",
   "metadata": {},
   "outputs": [
    {
     "name": "stdout",
     "output_type": "stream",
     "text": [
      "eleven is not present in the set\n"
     ]
    }
   ],
   "source": [
    "if'eleven'in myset:\n",
    "    print('eleven is present in the set')\n",
    "else:\n",
    "    print('eleven is not present in the set')"
   ]
  },
  {
   "cell_type": "markdown",
   "id": "c8b23407-4ea4-4114-a56f-058001ec6cd9",
   "metadata": {},
   "source": [
    "Add and remove items"
   ]
  },
  {
   "cell_type": "code",
   "execution_count": 21,
   "id": "06bad143-f217-446a-b7ba-718a50a2d0df",
   "metadata": {},
   "outputs": [
    {
     "data": {
      "text/plain": [
       "{'eight', 'five', 'four', 'one', 'seven', 'six', 'three', 'two'}"
      ]
     },
     "execution_count": 21,
     "metadata": {},
     "output_type": "execute_result"
    }
   ],
   "source": [
    "myset"
   ]
  },
  {
   "cell_type": "code",
   "execution_count": 22,
   "id": "b2d01ea3-1ae3-42e9-a92a-2bdc285e56a4",
   "metadata": {},
   "outputs": [
    {
     "data": {
      "text/plain": [
       "{'NINE', 'eight', 'five', 'four', 'one', 'seven', 'six', 'three', 'two'}"
      ]
     },
     "execution_count": 22,
     "metadata": {},
     "output_type": "execute_result"
    }
   ],
   "source": [
    "myset.add('NINE')\n",
    "myset"
   ]
  },
  {
   "cell_type": "code",
   "execution_count": 23,
   "id": "09031097-5aea-4192-b37a-c7d61c055d65",
   "metadata": {},
   "outputs": [
    {
     "data": {
      "text/plain": [
       "{'ELEVEN',\n",
       " 'NINE',\n",
       " 'TEN',\n",
       " 'TWELVE',\n",
       " 'eight',\n",
       " 'five',\n",
       " 'four',\n",
       " 'one',\n",
       " 'seven',\n",
       " 'six',\n",
       " 'three',\n",
       " 'two'}"
      ]
     },
     "execution_count": 23,
     "metadata": {},
     "output_type": "execute_result"
    }
   ],
   "source": [
    "myset.update(['TEN','ELEVEN','TWELVE'])\n",
    "myset"
   ]
  },
  {
   "cell_type": "code",
   "execution_count": 24,
   "id": "13b0aadd-9a9c-46bf-bba6-5a2e0c516ef2",
   "metadata": {},
   "outputs": [
    {
     "data": {
      "text/plain": [
       "{'ELEVEN',\n",
       " 'TEN',\n",
       " 'TWELVE',\n",
       " 'eight',\n",
       " 'five',\n",
       " 'four',\n",
       " 'one',\n",
       " 'seven',\n",
       " 'six',\n",
       " 'three',\n",
       " 'two'}"
      ]
     },
     "execution_count": 24,
     "metadata": {},
     "output_type": "execute_result"
    }
   ],
   "source": [
    "myset.remove('NINE')\n",
    "myset"
   ]
  },
  {
   "cell_type": "code",
   "execution_count": 38,
   "id": "a1aa2ec9-89fa-4a2f-9c5c-e4cc6064df71",
   "metadata": {},
   "outputs": [
    {
     "data": {
      "text/plain": [
       "{'eight', 'five', 'four', 'nine', 'one', 'seven', 'six', 'three', 'two'}"
      ]
     },
     "execution_count": 38,
     "metadata": {},
     "output_type": "execute_result"
    }
   ],
   "source": [
    "myset.discard('TEN')\n",
    "myset"
   ]
  },
  {
   "cell_type": "code",
   "execution_count": 25,
   "id": "d0dba155-ba0f-49f5-8198-9bf0c282cad5",
   "metadata": {},
   "outputs": [
    {
     "data": {
      "text/plain": [
       "set()"
      ]
     },
     "execution_count": 25,
     "metadata": {},
     "output_type": "execute_result"
    }
   ],
   "source": [
    "myset.clear()\n",
    "myset"
   ]
  },
  {
   "cell_type": "code",
   "execution_count": 26,
   "id": "431c5624-b652-482f-96c8-0e990f20b588",
   "metadata": {},
   "outputs": [
    {
     "ename": "NameError",
     "evalue": "name 'myset' is not defined",
     "output_type": "error",
     "traceback": [
      "\u001b[1;31m---------------------------------------------------------------------------\u001b[0m",
      "\u001b[1;31mNameError\u001b[0m                                 Traceback (most recent call last)",
      "Cell \u001b[1;32mIn[26], line 2\u001b[0m\n\u001b[0;32m      1\u001b[0m \u001b[38;5;28;01mdel\u001b[39;00m myset\n\u001b[1;32m----> 2\u001b[0m myset\n",
      "\u001b[1;31mNameError\u001b[0m: name 'myset' is not defined"
     ]
    }
   ],
   "source": [
    "del myset\n",
    "myset"
   ]
  },
  {
   "cell_type": "markdown",
   "id": "56293af3-a0ab-4122-8d25-8f7286dc2618",
   "metadata": {},
   "source": [
    "Copy set"
   ]
  },
  {
   "cell_type": "code",
   "execution_count": 27,
   "id": "692a998e-f339-4c0c-9974-a60c082e70c5",
   "metadata": {},
   "outputs": [
    {
     "data": {
      "text/plain": [
       "{'eight', 'five', 'four', 'one', 'seven', 'six', 'three', 'two'}"
      ]
     },
     "execution_count": 27,
     "metadata": {},
     "output_type": "execute_result"
    }
   ],
   "source": [
    "myset={'one','two','three','four','five','six','seven','eight'}\n",
    "myset"
   ]
  },
  {
   "cell_type": "code",
   "execution_count": 28,
   "id": "adc18435-3ffd-49e2-b415-6aadf187f129",
   "metadata": {},
   "outputs": [
    {
     "data": {
      "text/plain": [
       "{'eight', 'five', 'four', 'one', 'seven', 'six', 'three', 'two'}"
      ]
     },
     "execution_count": 28,
     "metadata": {},
     "output_type": "execute_result"
    }
   ],
   "source": [
    "myset1=myset\n",
    "myset1"
   ]
  },
  {
   "cell_type": "code",
   "execution_count": 29,
   "id": "30793380-a6e1-4ee4-bb5f-9828eb6b9fc0",
   "metadata": {},
   "outputs": [
    {
     "data": {
      "text/plain": [
       "(2725954452416, 2725954452416)"
      ]
     },
     "execution_count": 29,
     "metadata": {},
     "output_type": "execute_result"
    }
   ],
   "source": [
    "id(myset),id(myset1)"
   ]
  },
  {
   "cell_type": "code",
   "execution_count": 30,
   "id": "eb6225cd-6437-4261-9cf3-60e2f260577f",
   "metadata": {},
   "outputs": [
    {
     "data": {
      "text/plain": [
       "{'eight', 'five', 'four', 'one', 'seven', 'six', 'three', 'two'}"
      ]
     },
     "execution_count": 30,
     "metadata": {},
     "output_type": "execute_result"
    }
   ],
   "source": [
    "my_set=myset.copy()\n",
    "my_set"
   ]
  },
  {
   "cell_type": "code",
   "execution_count": 31,
   "id": "cec1b397-14ce-4ca0-a117-12ae0eb04df1",
   "metadata": {},
   "outputs": [
    {
     "data": {
      "text/plain": [
       "2725954451296"
      ]
     },
     "execution_count": 31,
     "metadata": {},
     "output_type": "execute_result"
    }
   ],
   "source": [
    "id(my_set)"
   ]
  },
  {
   "cell_type": "code",
   "execution_count": 5,
   "id": "45ac58b8-5fb3-4400-a085-474b37c9f51b",
   "metadata": {},
   "outputs": [
    {
     "data": {
      "text/plain": [
       "{'eight', 'five', 'four', 'nine', 'one', 'seven', 'six', 'three', 'two'}"
      ]
     },
     "execution_count": 5,
     "metadata": {},
     "output_type": "execute_result"
    }
   ],
   "source": [
    "myset={'one','two','three','four','five','six','seven','eight'}\n",
    "myset.add('nine')\n",
    "myset"
   ]
  },
  {
   "cell_type": "code",
   "execution_count": 7,
   "id": "f7316c8b-5469-4830-b411-80c036ef62db",
   "metadata": {},
   "outputs": [
    {
     "data": {
      "text/plain": [
       "{'eight', 'five', 'four', 'nine', 'one', 'seven', 'six', 'three', 'two'}"
      ]
     },
     "execution_count": 7,
     "metadata": {},
     "output_type": "execute_result"
    }
   ],
   "source": [
    "myset1=myset\n",
    "myset1"
   ]
  },
  {
   "cell_type": "code",
   "execution_count": 9,
   "id": "af471eb6-7beb-4782-ac65-4d43c6c11e5a",
   "metadata": {},
   "outputs": [
    {
     "data": {
      "text/plain": [
       "{'eight', 'five', 'four', 'nine', 'one', 'seven', 'six', 'three', 'two'}"
      ]
     },
     "execution_count": 9,
     "metadata": {},
     "output_type": "execute_result"
    }
   ],
   "source": [
    "my_set=myset1\n",
    "my_set"
   ]
  },
  {
   "cell_type": "markdown",
   "id": "147fcf21-8ee6-48fb-91b0-388d809b84c4",
   "metadata": {},
   "source": [
    "Set Operation"
   ]
  },
  {
   "cell_type": "markdown",
   "id": "11e5ebdb-2076-4f2b-a152-3e798fd894b7",
   "metadata": {},
   "source": [
    "Union"
   ]
  },
  {
   "cell_type": "code",
   "execution_count": 11,
   "id": "8c2a7586-4c6e-49b4-b085-b09d2b822ecf",
   "metadata": {},
   "outputs": [],
   "source": [
    "A={1,2,3,4,5}\n",
    "B={4,5,6,7,8}\n",
    "C={8,9,10}"
   ]
  },
  {
   "cell_type": "code",
   "execution_count": 12,
   "id": "12483e82-5241-44e2-ae5e-4c83abaf1b58",
   "metadata": {},
   "outputs": [
    {
     "data": {
      "text/plain": [
       "{1, 2, 3, 4, 5, 6, 7, 8}"
      ]
     },
     "execution_count": 12,
     "metadata": {},
     "output_type": "execute_result"
    }
   ],
   "source": [
    "A|B"
   ]
  },
  {
   "cell_type": "code",
   "execution_count": 13,
   "id": "f1d20890-8cda-411a-a8ad-006a20ba91c2",
   "metadata": {},
   "outputs": [
    {
     "data": {
      "text/plain": [
       "{1, 2, 3, 4, 5, 6, 7, 8}"
      ]
     },
     "execution_count": 13,
     "metadata": {},
     "output_type": "execute_result"
    }
   ],
   "source": [
    "A.union(B)"
   ]
  },
  {
   "cell_type": "code",
   "execution_count": 14,
   "id": "c38a6378-6d91-4802-aadd-442e5f5200d4",
   "metadata": {},
   "outputs": [
    {
     "data": {
      "text/plain": [
       "{1, 2, 3, 4, 5, 6, 7, 8, 9, 10}"
      ]
     },
     "execution_count": 14,
     "metadata": {},
     "output_type": "execute_result"
    }
   ],
   "source": [
    "A.union(B,C)"
   ]
  },
  {
   "cell_type": "code",
   "execution_count": 15,
   "id": "0c3e3564-6010-44e1-9a4d-f371a8b24618",
   "metadata": {},
   "outputs": [
    {
     "data": {
      "text/plain": [
       "{1, 2, 3, 4, 5, 6, 7, 8, 9, 10}"
      ]
     },
     "execution_count": 15,
     "metadata": {},
     "output_type": "execute_result"
    }
   ],
   "source": [
    "A.update(B,C)\n",
    "A"
   ]
  },
  {
   "cell_type": "markdown",
   "id": "5ff68625-4cc3-42c8-b9a8-ee4b2407a91f",
   "metadata": {},
   "source": [
    "Intersection"
   ]
  },
  {
   "cell_type": "code",
   "execution_count": 16,
   "id": "ca18948c-4e3a-4d15-8156-57138ec33a93",
   "metadata": {},
   "outputs": [],
   "source": [
    "A={1,2,3,4,5}\n",
    "B={4,5,6,7,8}"
   ]
  },
  {
   "cell_type": "code",
   "execution_count": 17,
   "id": "c51e88da-2edc-44e7-8ff3-333183b4dba9",
   "metadata": {},
   "outputs": [
    {
     "data": {
      "text/plain": [
       "{4, 5}"
      ]
     },
     "execution_count": 17,
     "metadata": {},
     "output_type": "execute_result"
    }
   ],
   "source": [
    "A&B"
   ]
  },
  {
   "cell_type": "code",
   "execution_count": 19,
   "id": "0c3afa97-c6d6-4fc5-ab92-d1c7325023f1",
   "metadata": {},
   "outputs": [
    {
     "data": {
      "text/plain": [
       "{4, 5}"
      ]
     },
     "execution_count": 19,
     "metadata": {},
     "output_type": "execute_result"
    }
   ],
   "source": [
    "A.intersection(B)"
   ]
  },
  {
   "cell_type": "code",
   "execution_count": 20,
   "id": "cc4dcd55-89b1-4e57-a22c-2d7f79412ef0",
   "metadata": {},
   "outputs": [
    {
     "data": {
      "text/plain": [
       "{4, 5}"
      ]
     },
     "execution_count": 20,
     "metadata": {},
     "output_type": "execute_result"
    }
   ],
   "source": [
    "A.intersection_update(B)\n",
    "A"
   ]
  },
  {
   "cell_type": "markdown",
   "id": "173dfa76-0381-4d4d-97a7-c00872f438ec",
   "metadata": {},
   "source": [
    "Difference"
   ]
  },
  {
   "cell_type": "code",
   "execution_count": 23,
   "id": "1d7ffd1b-5abc-4680-ae4d-170087d5e69c",
   "metadata": {},
   "outputs": [],
   "source": [
    "A={1,2,3,4,5}\n",
    "B={4,5,6,7,8}"
   ]
  },
  {
   "cell_type": "code",
   "execution_count": 24,
   "id": "973527d5-7493-4cd6-b4a2-91b76056c942",
   "metadata": {},
   "outputs": [
    {
     "data": {
      "text/plain": [
       "{1, 2, 3}"
      ]
     },
     "execution_count": 24,
     "metadata": {},
     "output_type": "execute_result"
    }
   ],
   "source": [
    "A-B"
   ]
  },
  {
   "cell_type": "code",
   "execution_count": 26,
   "id": "9a441ea1-c500-41a9-9d0a-cc8b2bcb6ff6",
   "metadata": {},
   "outputs": [
    {
     "data": {
      "text/plain": [
       "{1, 2, 3}"
      ]
     },
     "execution_count": 26,
     "metadata": {},
     "output_type": "execute_result"
    }
   ],
   "source": [
    "A.difference(B)"
   ]
  },
  {
   "cell_type": "code",
   "execution_count": 27,
   "id": "660aa6e7-dce4-42c4-b2b4-94bbb88d27e5",
   "metadata": {},
   "outputs": [
    {
     "data": {
      "text/plain": [
       "{6, 7, 8}"
      ]
     },
     "execution_count": 27,
     "metadata": {},
     "output_type": "execute_result"
    }
   ],
   "source": [
    "B-A"
   ]
  },
  {
   "cell_type": "code",
   "execution_count": 28,
   "id": "f66e333c-cdd5-4de7-9d38-8426e89d91e5",
   "metadata": {},
   "outputs": [
    {
     "data": {
      "text/plain": [
       "{6, 7, 8}"
      ]
     },
     "execution_count": 28,
     "metadata": {},
     "output_type": "execute_result"
    }
   ],
   "source": [
    "B.difference(A)"
   ]
  },
  {
   "cell_type": "code",
   "execution_count": 29,
   "id": "5d5bef6e-8b8e-4723-b80e-7ba2cf904540",
   "metadata": {},
   "outputs": [
    {
     "data": {
      "text/plain": [
       "{6, 7, 8}"
      ]
     },
     "execution_count": 29,
     "metadata": {},
     "output_type": "execute_result"
    }
   ],
   "source": [
    "B.difference_update(A)\n",
    "B"
   ]
  },
  {
   "cell_type": "markdown",
   "id": "dd755404-cff1-4195-a125-53236e1034c8",
   "metadata": {},
   "source": [
    "Symmetric Difference"
   ]
  },
  {
   "cell_type": "code",
   "execution_count": 30,
   "id": "dfaf52bc-c255-497c-a70e-4529def16018",
   "metadata": {},
   "outputs": [],
   "source": [
    "A={1,2,3,4,5}\n",
    "B={4,5,6,7,8}"
   ]
  },
  {
   "cell_type": "code",
   "execution_count": 31,
   "id": "73791f84-82f4-41ca-93f8-2f28d73e8139",
   "metadata": {},
   "outputs": [
    {
     "data": {
      "text/plain": [
       "{1, 2, 3, 6, 7, 8}"
      ]
     },
     "execution_count": 31,
     "metadata": {},
     "output_type": "execute_result"
    }
   ],
   "source": [
    "A^B"
   ]
  },
  {
   "cell_type": "code",
   "execution_count": 32,
   "id": "bed870fc-b10a-4fcd-b508-36e05a844167",
   "metadata": {},
   "outputs": [
    {
     "data": {
      "text/plain": [
       "{1, 2, 3, 6, 7, 8}"
      ]
     },
     "execution_count": 32,
     "metadata": {},
     "output_type": "execute_result"
    }
   ],
   "source": [
    "A.symmetric_difference(B)"
   ]
  },
  {
   "cell_type": "code",
   "execution_count": 34,
   "id": "162c48d6-5ffc-4eaa-b894-7710b40a1e2d",
   "metadata": {},
   "outputs": [
    {
     "data": {
      "text/plain": [
       "{1, 2, 3, 4, 5}"
      ]
     },
     "execution_count": 34,
     "metadata": {},
     "output_type": "execute_result"
    }
   ],
   "source": [
    "A.symmetric_difference_update(B)\n",
    "A"
   ]
  },
  {
   "cell_type": "markdown",
   "id": "3e0871b0-f3f3-40b0-8841-91ae9de42cfe",
   "metadata": {},
   "source": [
    "Subset,superset and Disjoint"
   ]
  },
  {
   "cell_type": "code",
   "execution_count": 35,
   "id": "848201db-d3e1-4298-a722-e1f290c9098a",
   "metadata": {},
   "outputs": [],
   "source": [
    "A={1,2,3,4,5,6,7,8,9}\n",
    "B={3,4,5,6,7,8}\n",
    "C={10,20,30,40}"
   ]
  },
  {
   "cell_type": "code",
   "execution_count": 36,
   "id": "f159fe19-78a0-4b14-af6f-356c98797200",
   "metadata": {},
   "outputs": [
    {
     "data": {
      "text/plain": [
       "True"
      ]
     },
     "execution_count": 36,
     "metadata": {},
     "output_type": "execute_result"
    }
   ],
   "source": [
    "B.issubset(A)"
   ]
  },
  {
   "cell_type": "code",
   "execution_count": 37,
   "id": "5a95e509-a44a-4a0b-a913-00cd8eafb516",
   "metadata": {},
   "outputs": [
    {
     "data": {
      "text/plain": [
       "True"
      ]
     },
     "execution_count": 37,
     "metadata": {},
     "output_type": "execute_result"
    }
   ],
   "source": [
    "A.issuperset(B)"
   ]
  },
  {
   "cell_type": "code",
   "execution_count": 38,
   "id": "77138fd5-6e00-479e-810e-f48fd22b109b",
   "metadata": {},
   "outputs": [
    {
     "data": {
      "text/plain": [
       "True"
      ]
     },
     "execution_count": 38,
     "metadata": {},
     "output_type": "execute_result"
    }
   ],
   "source": [
    "C.isdisjoint(A)"
   ]
  },
  {
   "cell_type": "code",
   "execution_count": 39,
   "id": "d5ebfdfb-42a6-43e6-ae9b-80e5705d4f84",
   "metadata": {},
   "outputs": [
    {
     "data": {
      "text/plain": [
       "False"
      ]
     },
     "execution_count": 39,
     "metadata": {},
     "output_type": "execute_result"
    }
   ],
   "source": [
    "B.isdisjoint(A)"
   ]
  },
  {
   "cell_type": "markdown",
   "id": "b35a00f4-57df-4206-aaaa-878b8cded60f",
   "metadata": {},
   "source": [
    "Other buildin functions"
   ]
  },
  {
   "cell_type": "code",
   "execution_count": 40,
   "id": "866fe4bc-29d7-4a17-9da2-2dde80959deb",
   "metadata": {},
   "outputs": [
    {
     "data": {
      "text/plain": [
       "{1, 2, 3, 4, 5, 6, 7, 8, 9}"
      ]
     },
     "execution_count": 40,
     "metadata": {},
     "output_type": "execute_result"
    }
   ],
   "source": [
    "A"
   ]
  },
  {
   "cell_type": "code",
   "execution_count": 41,
   "id": "0e08805e-177f-4339-ba47-135330431a5f",
   "metadata": {},
   "outputs": [
    {
     "data": {
      "text/plain": [
       "45"
      ]
     },
     "execution_count": 41,
     "metadata": {},
     "output_type": "execute_result"
    }
   ],
   "source": [
    "sum(A)"
   ]
  },
  {
   "cell_type": "code",
   "execution_count": 42,
   "id": "7ac3a2b6-1ddd-421f-999e-9cfd97d45dd0",
   "metadata": {},
   "outputs": [
    {
     "data": {
      "text/plain": [
       "9"
      ]
     },
     "execution_count": 42,
     "metadata": {},
     "output_type": "execute_result"
    }
   ],
   "source": [
    "max(A)"
   ]
  },
  {
   "cell_type": "code",
   "execution_count": 43,
   "id": "b43b4a6b-9f8e-466f-a31c-43142f9578f9",
   "metadata": {},
   "outputs": [
    {
     "data": {
      "text/plain": [
       "1"
      ]
     },
     "execution_count": 43,
     "metadata": {},
     "output_type": "execute_result"
    }
   ],
   "source": [
    "min(A)"
   ]
  },
  {
   "cell_type": "code",
   "execution_count": 44,
   "id": "60b2af07-0afe-4dc0-b23f-5e230fb8b13c",
   "metadata": {},
   "outputs": [
    {
     "data": {
      "text/plain": [
       "9"
      ]
     },
     "execution_count": 44,
     "metadata": {},
     "output_type": "execute_result"
    }
   ],
   "source": [
    "len(A)"
   ]
  },
  {
   "cell_type": "code",
   "execution_count": 45,
   "id": "e99ea4dd-813e-42cf-9e75-ca8d9d4a95b8",
   "metadata": {},
   "outputs": [
    {
     "data": {
      "text/plain": [
       "[(0, 1), (1, 2), (2, 3), (3, 4), (4, 5), (5, 6), (6, 7), (7, 8), (8, 9)]"
      ]
     },
     "execution_count": 45,
     "metadata": {},
     "output_type": "execute_result"
    }
   ],
   "source": [
    "list(enumerate(A))"
   ]
  },
  {
   "cell_type": "code",
   "execution_count": 46,
   "id": "bbd0c9a2-3b54-4ae6-b6c9-88de2fbd205d",
   "metadata": {},
   "outputs": [
    {
     "data": {
      "text/plain": [
       "[9, 8, 7, 6, 5, 4, 3, 2, 1]"
      ]
     },
     "execution_count": 46,
     "metadata": {},
     "output_type": "execute_result"
    }
   ],
   "source": [
    "D=sorted(A,reverse=True)\n",
    "D"
   ]
  },
  {
   "cell_type": "code",
   "execution_count": 47,
   "id": "f713d96e-0da5-47c4-95ab-90f8393a079e",
   "metadata": {},
   "outputs": [
    {
     "data": {
      "text/plain": [
       "[1, 2, 3, 4, 5, 6, 7, 8, 9]"
      ]
     },
     "execution_count": 47,
     "metadata": {},
     "output_type": "execute_result"
    }
   ],
   "source": [
    "sorted(D)"
   ]
  },
  {
   "cell_type": "markdown",
   "id": "909c3d33-0e98-4ed4-baab-f828323e6e96",
   "metadata": {},
   "source": [
    "Dictionary"
   ]
  },
  {
   "cell_type": "code",
   "execution_count": 48,
   "id": "58795bd3-aac1-455f-8f91-6ce81132fae4",
   "metadata": {},
   "outputs": [
    {
     "data": {
      "text/plain": [
       "{}"
      ]
     },
     "execution_count": 48,
     "metadata": {},
     "output_type": "execute_result"
    }
   ],
   "source": [
    "mydict=dict() #create dictionary\n",
    "mydict"
   ]
  },
  {
   "cell_type": "code",
   "execution_count": 49,
   "id": "ce8c80c3-ac75-432b-abfc-355dece7b449",
   "metadata": {},
   "outputs": [
    {
     "data": {
      "text/plain": [
       "{}"
      ]
     },
     "execution_count": 49,
     "metadata": {},
     "output_type": "execute_result"
    }
   ],
   "source": [
    "mydict={}\n",
    "mydict"
   ]
  },
  {
   "cell_type": "code",
   "execution_count": 50,
   "id": "632b51d4-f608-4c83-a4f7-ebf46c5b89ec",
   "metadata": {},
   "outputs": [
    {
     "data": {
      "text/plain": [
       "{1: 'one', 2: 'two', 3: 'three'}"
      ]
     },
     "execution_count": 50,
     "metadata": {},
     "output_type": "execute_result"
    }
   ],
   "source": [
    "mydict={1:'one',2:'two',3:'three'}\n",
    "mydict"
   ]
  },
  {
   "cell_type": "code",
   "execution_count": 51,
   "id": "5002fe0f-97fb-4cc8-8045-e08e29429171",
   "metadata": {},
   "outputs": [
    {
     "data": {
      "text/plain": [
       "{1: 'one', 2: 'two', 3: 'three'}"
      ]
     },
     "execution_count": 51,
     "metadata": {},
     "output_type": "execute_result"
    }
   ],
   "source": [
    "mydict=dict({1:'one',2:'two',3:'three'})\n",
    "mydict"
   ]
  },
  {
   "cell_type": "code",
   "execution_count": 52,
   "id": "8a85d629-5485-428e-80c9-2e695ad4c0d3",
   "metadata": {},
   "outputs": [
    {
     "data": {
      "text/plain": [
       "{'A': 'one', 'B': 'two', 'C': 'three'}"
      ]
     },
     "execution_count": 52,
     "metadata": {},
     "output_type": "execute_result"
    }
   ],
   "source": [
    "mydict={'A':'one','B':'two','C':'three'}\n",
    "mydict"
   ]
  },
  {
   "cell_type": "code",
   "execution_count": 53,
   "id": "d9faf0a3-d2a0-4ec3-84c7-9d5b1b239f57",
   "metadata": {},
   "outputs": [
    {
     "data": {
      "text/plain": [
       "{1: 'one', 'A': 'two', 3: 'three'}"
      ]
     },
     "execution_count": 53,
     "metadata": {},
     "output_type": "execute_result"
    }
   ],
   "source": [
    "mydict={1:'one','A':'two',3:'three'}\n",
    "mydict"
   ]
  },
  {
   "cell_type": "code",
   "execution_count": 54,
   "id": "a6c9af2d-1778-4fff-b970-97a5dbf14394",
   "metadata": {},
   "outputs": [
    {
     "data": {
      "text/plain": [
       "dict_values(['one', 'two', 'three'])"
      ]
     },
     "execution_count": 54,
     "metadata": {},
     "output_type": "execute_result"
    }
   ],
   "source": [
    "mydict.values()"
   ]
  },
  {
   "cell_type": "code",
   "execution_count": 55,
   "id": "ced630f5-a562-420e-a15f-43f2ef192627",
   "metadata": {},
   "outputs": [
    {
     "data": {
      "text/plain": [
       "dict_items([(1, 'one'), ('A', 'two'), (3, 'three')])"
      ]
     },
     "execution_count": 55,
     "metadata": {},
     "output_type": "execute_result"
    }
   ],
   "source": [
    "mydict.items()"
   ]
  },
  {
   "cell_type": "code",
   "execution_count": 56,
   "id": "d9a674ad-7a1b-4a00-a387-d2c7aa3584aa",
   "metadata": {},
   "outputs": [
    {
     "data": {
      "text/plain": [
       "{1: 'one', 2: 'two', 'A': ['asif', 'john', 'Maria']}"
      ]
     },
     "execution_count": 56,
     "metadata": {},
     "output_type": "execute_result"
    }
   ],
   "source": [
    "mydict={1:'one',2:'two','A':['asif','john','Maria']}\n",
    "mydict"
   ]
  },
  {
   "cell_type": "code",
   "execution_count": 57,
   "id": "9cfb5722-89a2-4791-b6b1-840337bf1a0f",
   "metadata": {},
   "outputs": [
    {
     "data": {
      "text/plain": [
       "{1: 'one',\n",
       " 2: 'two',\n",
       " 'A': ['asif', 'john', 'Maria'],\n",
       " 'B': ('Bat', 'cat', 'hat')}"
      ]
     },
     "execution_count": 57,
     "metadata": {},
     "output_type": "execute_result"
    }
   ],
   "source": [
    "mydict={1:'one',2:'two','A':['asif','john','Maria'],'B':('Bat','cat','hat')}\n",
    "mydict"
   ]
  },
  {
   "cell_type": "code",
   "execution_count": 58,
   "id": "73466e69-e93f-45f8-a17c-384f96e90ca4",
   "metadata": {},
   "outputs": [
    {
     "data": {
      "text/plain": [
       "{1: 'one',\n",
       " 2: 'two',\n",
       " 'A': {'Name': 'asif', 'Age': 20},\n",
       " 'B': ('Bat', 'cat', 'hat')}"
      ]
     },
     "execution_count": 58,
     "metadata": {},
     "output_type": "execute_result"
    }
   ],
   "source": [
    "mydict={1:'one',2:'two','A':{'Name':'asif','Age':20},'B':('Bat','cat','hat')}\n",
    "mydict"
   ]
  },
  {
   "cell_type": "code",
   "execution_count": 59,
   "id": "041d2e49-04eb-4a6f-9855-1a8e693fd7f9",
   "metadata": {},
   "outputs": [
    {
     "data": {
      "text/plain": [
       "{'d': None, 'b': None, 'c': None, 'a': None}"
      ]
     },
     "execution_count": 59,
     "metadata": {},
     "output_type": "execute_result"
    }
   ],
   "source": [
    "keys={'a','b','c','d'}\n",
    "mydict3=dict.fromkeys(keys)\n",
    "mydict3"
   ]
  },
  {
   "cell_type": "code",
   "execution_count": 64,
   "id": "913b027a-1bf2-4015-be53-da4a5c5e4824",
   "metadata": {},
   "outputs": [
    {
     "data": {
      "text/plain": [
       "{'d': 10, 'b': 10, 'c': 10, 'a': 10}"
      ]
     },
     "execution_count": 64,
     "metadata": {},
     "output_type": "execute_result"
    }
   ],
   "source": [
    "keys={'a','b','c','d'}\n",
    "value=10\n",
    "mydict3=dict.fromkeys(keys,value)\n",
    "mydict3"
   ]
  },
  {
   "cell_type": "code",
   "execution_count": 65,
   "id": "bf0065de-391a-4136-8f1c-14f4913bc6a0",
   "metadata": {},
   "outputs": [
    {
     "data": {
      "text/plain": [
       "{'d': [10, 20, 30], 'b': [10, 20, 30], 'c': [10, 20, 30], 'a': [10, 20, 30]}"
      ]
     },
     "execution_count": 65,
     "metadata": {},
     "output_type": "execute_result"
    }
   ],
   "source": [
    "keys={'a','b','c','d'}\n",
    "value=[10,20,30]\n",
    "mydict3=dict.fromkeys(keys,value)\n",
    "mydict3"
   ]
  },
  {
   "cell_type": "code",
   "execution_count": 66,
   "id": "a91285be-4992-4ae9-973a-394a179edc92",
   "metadata": {},
   "outputs": [
    {
     "data": {
      "text/plain": [
       "{'d': [10, 20, 30, 40],\n",
       " 'b': [10, 20, 30, 40],\n",
       " 'c': [10, 20, 30, 40],\n",
       " 'a': [10, 20, 30, 40]}"
      ]
     },
     "execution_count": 66,
     "metadata": {},
     "output_type": "execute_result"
    }
   ],
   "source": [
    "value.append(40)\n",
    "mydict3"
   ]
  },
  {
   "cell_type": "markdown",
   "id": "8ff3e032-2bc8-4aee-bd89-0ceed620f0ea",
   "metadata": {},
   "source": [
    "Accessing Items"
   ]
  },
  {
   "cell_type": "code",
   "execution_count": 67,
   "id": "772a5b2b-bd5f-415b-a08b-2093cb78bf3e",
   "metadata": {},
   "outputs": [
    {
     "data": {
      "text/plain": [
       "{1: 'one', 2: 'two', 3: 'three', 4: 'four'}"
      ]
     },
     "execution_count": 67,
     "metadata": {},
     "output_type": "execute_result"
    }
   ],
   "source": [
    "mydict={1:'one',2:'two',3:'three',4:'four'}\n",
    "mydict"
   ]
  },
  {
   "cell_type": "code",
   "execution_count": 68,
   "id": "298fa315-9744-4f8a-9f54-2e489c37e9d9",
   "metadata": {},
   "outputs": [
    {
     "data": {
      "text/plain": [
       "'one'"
      ]
     },
     "execution_count": 68,
     "metadata": {},
     "output_type": "execute_result"
    }
   ],
   "source": [
    "mydict[1]"
   ]
  },
  {
   "cell_type": "code",
   "execution_count": 69,
   "id": "72b499aa-ab70-4bcb-a5bb-860e808ec98e",
   "metadata": {},
   "outputs": [
    {
     "data": {
      "text/plain": [
       "'one'"
      ]
     },
     "execution_count": 69,
     "metadata": {},
     "output_type": "execute_result"
    }
   ],
   "source": [
    "mydict.get(1)"
   ]
  },
  {
   "cell_type": "code",
   "execution_count": 70,
   "id": "ea007697-0012-40e2-9f7e-73432bb1a5c7",
   "metadata": {},
   "outputs": [
    {
     "data": {
      "text/plain": [
       "{'Name': 'asif', 'ID': 74123, 'DOB': 1991, 'job': 'Analyst'}"
      ]
     },
     "execution_count": 70,
     "metadata": {},
     "output_type": "execute_result"
    }
   ],
   "source": [
    "mydict1={'Name':'asif','ID':74123,'DOB':1991,'job':'Analyst'}\n",
    "mydict1"
   ]
  },
  {
   "cell_type": "code",
   "execution_count": 71,
   "id": "e7391d17-69af-489c-9874-c661ec67c424",
   "metadata": {},
   "outputs": [
    {
     "data": {
      "text/plain": [
       "'asif'"
      ]
     },
     "execution_count": 71,
     "metadata": {},
     "output_type": "execute_result"
    }
   ],
   "source": [
    "mydict1['Name']"
   ]
  },
  {
   "cell_type": "code",
   "execution_count": 72,
   "id": "713eb2cc-5d56-4aa6-a75f-ccf40e64040f",
   "metadata": {},
   "outputs": [
    {
     "data": {
      "text/plain": [
       "'Analyst'"
      ]
     },
     "execution_count": 72,
     "metadata": {},
     "output_type": "execute_result"
    }
   ],
   "source": [
    "mydict1.get('job')"
   ]
  },
  {
   "cell_type": "markdown",
   "id": "7d9933f2-b5e1-469a-afe6-deda5b19b049",
   "metadata": {},
   "source": [
    "Add,remove and change items"
   ]
  },
  {
   "cell_type": "code",
   "execution_count": 74,
   "id": "9d11ed31-621e-4018-b49f-9a05bcf487ee",
   "metadata": {},
   "outputs": [
    {
     "data": {
      "text/plain": [
       "{'Name': 'Asif', 'ID': 12345, 'DOB': 1991, 'Address': 'Hilsinki'}"
      ]
     },
     "execution_count": 74,
     "metadata": {},
     "output_type": "execute_result"
    }
   ],
   "source": [
    "mydict1={'Name':'Asif','ID':12345,'DOB':1991,'Address':'Hilsinki'}\n",
    "mydict1"
   ]
  },
  {
   "cell_type": "code",
   "execution_count": 75,
   "id": "20af9aea-2165-4dc2-b334-d8aa70975e94",
   "metadata": {},
   "outputs": [
    {
     "data": {
      "text/plain": [
       "{'Name': 'Asif', 'ID': 12345, 'DOB': 1992, 'Address': 'Delhi'}"
      ]
     },
     "execution_count": 75,
     "metadata": {},
     "output_type": "execute_result"
    }
   ],
   "source": [
    "mydict1['DOB']=1992\n",
    "mydict1['Address']='Delhi'\n",
    "mydict1"
   ]
  },
  {
   "cell_type": "code",
   "execution_count": 76,
   "id": "7cc13b32-4cfc-4f95-bb19-0807c2bf9105",
   "metadata": {},
   "outputs": [
    {
     "data": {
      "text/plain": [
       "{'Name': 'Asif', 'ID': 12345, 'DOB': 1995, 'Address': 'Delhi'}"
      ]
     },
     "execution_count": 76,
     "metadata": {},
     "output_type": "execute_result"
    }
   ],
   "source": [
    "dict1={'DOB':1995}\n",
    "mydict1.update(dict1)\n",
    "mydict1"
   ]
  },
  {
   "cell_type": "code",
   "execution_count": 77,
   "id": "51e61392-b874-4187-b079-2ffbefebf6a2",
   "metadata": {},
   "outputs": [
    {
     "data": {
      "text/plain": [
       "{'Name': 'Asif',\n",
       " 'ID': 12345,\n",
       " 'DOB': 1995,\n",
       " 'Address': 'Delhi',\n",
       " 'Job': 'Analyst'}"
      ]
     },
     "execution_count": 77,
     "metadata": {},
     "output_type": "execute_result"
    }
   ],
   "source": [
    "mydict1['Job']='Analyst'\n",
    "mydict1"
   ]
  },
  {
   "cell_type": "code",
   "execution_count": 78,
   "id": "6a29c4fa-b011-41f1-be73-782515ebcbbf",
   "metadata": {},
   "outputs": [
    {
     "data": {
      "text/plain": [
       "{'Name': 'Asif', 'ID': 12345, 'DOB': 1995, 'Address': 'Delhi'}"
      ]
     },
     "execution_count": 78,
     "metadata": {},
     "output_type": "execute_result"
    }
   ],
   "source": [
    "mydict1.pop('Job')\n",
    "mydict1"
   ]
  },
  {
   "cell_type": "code",
   "execution_count": 79,
   "id": "ba384482-69c3-45fb-bfa3-a44eaf9febd0",
   "metadata": {},
   "outputs": [
    {
     "data": {
      "text/plain": [
       "('Address', 'Delhi')"
      ]
     },
     "execution_count": 79,
     "metadata": {},
     "output_type": "execute_result"
    }
   ],
   "source": [
    "mydict1.popitem()"
   ]
  },
  {
   "cell_type": "code",
   "execution_count": 80,
   "id": "31637a44-b7ec-4815-9a57-dd1e04d06dcc",
   "metadata": {},
   "outputs": [
    {
     "data": {
      "text/plain": [
       "{'Name': 'Asif', 'ID': 12345, 'DOB': 1995}"
      ]
     },
     "execution_count": 80,
     "metadata": {},
     "output_type": "execute_result"
    }
   ],
   "source": [
    "mydict1"
   ]
  },
  {
   "cell_type": "code",
   "execution_count": 81,
   "id": "61c80389-99ae-4de7-a8de-4f17a651709e",
   "metadata": {},
   "outputs": [
    {
     "data": {
      "text/plain": [
       "{'Name': 'Asif', 'DOB': 1995}"
      ]
     },
     "execution_count": 81,
     "metadata": {},
     "output_type": "execute_result"
    }
   ],
   "source": [
    "del[mydict1['ID']]\n",
    "mydict1"
   ]
  },
  {
   "cell_type": "code",
   "execution_count": 82,
   "id": "77680018-8dff-4893-8f30-37df4014240f",
   "metadata": {},
   "outputs": [
    {
     "data": {
      "text/plain": [
       "{}"
      ]
     },
     "execution_count": 82,
     "metadata": {},
     "output_type": "execute_result"
    }
   ],
   "source": [
    "mydict1.clear()\n",
    "mydict1\n"
   ]
  },
  {
   "cell_type": "code",
   "execution_count": 83,
   "id": "2bf803df-97e4-4713-8bd4-a7f0fc68cef2",
   "metadata": {},
   "outputs": [
    {
     "ename": "NameError",
     "evalue": "name 'mydict1' is not defined",
     "output_type": "error",
     "traceback": [
      "\u001b[1;31m---------------------------------------------------------------------------\u001b[0m",
      "\u001b[1;31mNameError\u001b[0m                                 Traceback (most recent call last)",
      "Cell \u001b[1;32mIn[83], line 2\u001b[0m\n\u001b[0;32m      1\u001b[0m \u001b[38;5;28;01mdel\u001b[39;00m mydict1\n\u001b[1;32m----> 2\u001b[0m mydict1\n",
      "\u001b[1;31mNameError\u001b[0m: name 'mydict1' is not defined"
     ]
    }
   ],
   "source": [
    "del mydict1\n",
    "mydict1"
   ]
  },
  {
   "cell_type": "markdown",
   "id": "20d3bb4f-1a6c-4701-9e1e-93af09e41420",
   "metadata": {},
   "source": [
    "Copy Dictionary"
   ]
  },
  {
   "cell_type": "code",
   "execution_count": 84,
   "id": "d5b6b39c-f489-444a-a226-8c10175c6ec8",
   "metadata": {},
   "outputs": [
    {
     "data": {
      "text/plain": [
       "{'Name': 'Asif', 'ID': 12345, 'DOB': 1991, 'Address': 'Hilsinki'}"
      ]
     },
     "execution_count": 84,
     "metadata": {},
     "output_type": "execute_result"
    }
   ],
   "source": [
    "mydict={'Name':'Asif','ID':12345,'DOB':1991,'Address':'Hilsinki'}\n",
    "mydict"
   ]
  },
  {
   "cell_type": "code",
   "execution_count": 85,
   "id": "2b7f9741-a152-46fc-92c9-bcae158ef953",
   "metadata": {},
   "outputs": [],
   "source": [
    "mydict1=mydict"
   ]
  },
  {
   "cell_type": "code",
   "execution_count": 86,
   "id": "192b988a-1b64-48b7-9ebc-c15729dc1409",
   "metadata": {},
   "outputs": [
    {
     "data": {
      "text/plain": [
       "(2870282977088, 2870282977088)"
      ]
     },
     "execution_count": 86,
     "metadata": {},
     "output_type": "execute_result"
    }
   ],
   "source": [
    "id(mydict),id(mydict1)"
   ]
  },
  {
   "cell_type": "code",
   "execution_count": 87,
   "id": "768ec7d3-b330-40e8-a3d6-ef293553719a",
   "metadata": {},
   "outputs": [],
   "source": [
    "mydict2=mydict.copy()"
   ]
  },
  {
   "cell_type": "code",
   "execution_count": 88,
   "id": "b9c99d4a-3bd6-428c-9395-429c971c1d21",
   "metadata": {},
   "outputs": [
    {
     "data": {
      "text/plain": [
       "2870284900480"
      ]
     },
     "execution_count": 88,
     "metadata": {},
     "output_type": "execute_result"
    }
   ],
   "source": [
    "id(mydict2)"
   ]
  },
  {
   "cell_type": "code",
   "execution_count": 89,
   "id": "821291f7-4807-4261-a6da-1c46995f76b4",
   "metadata": {},
   "outputs": [
    {
     "data": {
      "text/plain": [
       "{'Name': 'Asif', 'ID': 12345, 'DOB': 1991, 'Address': 'Mumbai'}"
      ]
     },
     "execution_count": 89,
     "metadata": {},
     "output_type": "execute_result"
    }
   ],
   "source": [
    "mydict['Address']='Mumbai'\n",
    "mydict"
   ]
  },
  {
   "cell_type": "code",
   "execution_count": 90,
   "id": "0e6548b5-840d-4bcc-9c6c-5ba7ba4e89eb",
   "metadata": {},
   "outputs": [
    {
     "data": {
      "text/plain": [
       "{'Name': 'Asif', 'ID': 12345, 'DOB': 1991, 'Address': 'Mumbai'}"
      ]
     },
     "execution_count": 90,
     "metadata": {},
     "output_type": "execute_result"
    }
   ],
   "source": [
    "mydict1"
   ]
  },
  {
   "cell_type": "code",
   "execution_count": 91,
   "id": "ad9f6bbe-ae5c-45c6-a96b-0d0b46c71f4a",
   "metadata": {},
   "outputs": [
    {
     "data": {
      "text/plain": [
       "{'Name': 'Asif', 'ID': 12345, 'DOB': 1991, 'Address': 'Hilsinki'}"
      ]
     },
     "execution_count": 91,
     "metadata": {},
     "output_type": "execute_result"
    }
   ],
   "source": [
    "mydict2"
   ]
  },
  {
   "cell_type": "markdown",
   "id": "89cc86c8-794d-4ed7-941d-9ee5ea3bd317",
   "metadata": {},
   "source": [
    "Loop through a dictionary"
   ]
  },
  {
   "cell_type": "code",
   "execution_count": 94,
   "id": "d0a395b9-7975-4f06-8eb3-6bd4b608b47f",
   "metadata": {},
   "outputs": [
    {
     "data": {
      "text/plain": [
       "{'Name': 'Asif',\n",
       " 'ID': 12345,\n",
       " 'DOB': 1991,\n",
       " 'Address': 'Hilsinki',\n",
       " 'Job': 'Analyst'}"
      ]
     },
     "execution_count": 94,
     "metadata": {},
     "output_type": "execute_result"
    }
   ],
   "source": [
    "mydict1={'Name':'Asif','ID':12345,'DOB':1991,'Address':'Hilsinki','Job':'Analyst'}\n",
    "mydict1"
   ]
  },
  {
   "cell_type": "code",
   "execution_count": 96,
   "id": "f116a580-2f92-4053-a1b3-a62984512b17",
   "metadata": {},
   "outputs": [
    {
     "name": "stdout",
     "output_type": "stream",
     "text": [
      "Name : Asif\n",
      "ID : 12345\n",
      "DOB : 1991\n",
      "Address : Hilsinki\n",
      "Job : Analyst\n"
     ]
    }
   ],
   "source": [
    "for i in mydict1:\n",
    "    print(i,':',mydict1[i])"
   ]
  },
  {
   "cell_type": "code",
   "execution_count": 97,
   "id": "055b36e6-73a2-4bd6-a0b6-b3eadd52a82f",
   "metadata": {},
   "outputs": [
    {
     "name": "stdout",
     "output_type": "stream",
     "text": [
      "Asif\n",
      "12345\n",
      "1991\n",
      "Hilsinki\n",
      "Analyst\n"
     ]
    }
   ],
   "source": [
    "for i in mydict1:\n",
    "    print(mydict1[i])"
   ]
  },
  {
   "cell_type": "markdown",
   "id": "55600931-f8c1-494f-98e8-992e0dedc1f7",
   "metadata": {},
   "source": [
    "Dictionary Membership"
   ]
  },
  {
   "cell_type": "code",
   "execution_count": 98,
   "id": "5d8f6d30-ceee-427c-9235-679453678bdc",
   "metadata": {},
   "outputs": [
    {
     "data": {
      "text/plain": [
       "{'Name': 'Asif', 'ID': 12345, 'DOB': 1991, 'Job': 'Analyst'}"
      ]
     },
     "execution_count": 98,
     "metadata": {},
     "output_type": "execute_result"
    }
   ],
   "source": [
    "mydict1={'Name':'Asif','ID':12345,'DOB':1991,'Job':'Analyst'}\n",
    "mydict1"
   ]
  },
  {
   "cell_type": "code",
   "execution_count": 99,
   "id": "ed4d3bcf-ed9d-4def-b1de-9f17d60143ae",
   "metadata": {},
   "outputs": [
    {
     "data": {
      "text/plain": [
       "True"
      ]
     },
     "execution_count": 99,
     "metadata": {},
     "output_type": "execute_result"
    }
   ],
   "source": [
    "'Name'in mydict1"
   ]
  },
  {
   "cell_type": "code",
   "execution_count": 100,
   "id": "3d39f3fd-3699-4157-9ebd-c61a5ccbe73e",
   "metadata": {},
   "outputs": [
    {
     "data": {
      "text/plain": [
       "False"
      ]
     },
     "execution_count": 100,
     "metadata": {},
     "output_type": "execute_result"
    }
   ],
   "source": [
    "'Asif'in mydict1"
   ]
  },
  {
   "cell_type": "code",
   "execution_count": 101,
   "id": "a620c370-ac13-42c1-af06-f158248fde1a",
   "metadata": {},
   "outputs": [
    {
     "data": {
      "text/plain": [
       "True"
      ]
     },
     "execution_count": 101,
     "metadata": {},
     "output_type": "execute_result"
    }
   ],
   "source": [
    "'ID'in mydict1"
   ]
  },
  {
   "cell_type": "code",
   "execution_count": 102,
   "id": "40582c9b-6274-4664-af76-9c655c0c220c",
   "metadata": {},
   "outputs": [
    {
     "data": {
      "text/plain": [
       "False"
      ]
     },
     "execution_count": 102,
     "metadata": {},
     "output_type": "execute_result"
    }
   ],
   "source": [
    "'Address'in mydict1"
   ]
  },
  {
   "cell_type": "markdown",
   "id": "8d27a027-b5f0-4795-a009-97372ecf4423",
   "metadata": {},
   "source": [
    "All/Any"
   ]
  },
  {
   "cell_type": "code",
   "execution_count": 103,
   "id": "59af2d0a-da8c-4a64-bff0-d86ac1eacd4a",
   "metadata": {},
   "outputs": [
    {
     "data": {
      "text/plain": [
       "{'Name': 'Asif', 'ID': 12345, 'DOB': 1991, 'Job': 'Analyst'}"
      ]
     },
     "execution_count": 103,
     "metadata": {},
     "output_type": "execute_result"
    }
   ],
   "source": [
    "mydict1={'Name':'Asif','ID':12345,'DOB':1991,'Job':'Analyst'}\n",
    "mydict1"
   ]
  },
  {
   "cell_type": "code",
   "execution_count": 104,
   "id": "2691a77d-d30c-4467-a199-5d47f8764556",
   "metadata": {},
   "outputs": [
    {
     "data": {
      "text/plain": [
       "True"
      ]
     },
     "execution_count": 104,
     "metadata": {},
     "output_type": "execute_result"
    }
   ],
   "source": [
    "all(mydict1)"
   ]
  },
  {
   "cell_type": "code",
   "execution_count": null,
   "id": "a2afbfa7-6208-43de-9216-5ea9b9a666b4",
   "metadata": {},
   "outputs": [],
   "source": []
  }
 ],
 "metadata": {
  "kernelspec": {
   "display_name": "Python [conda env:base] *",
   "language": "python",
   "name": "conda-base-py"
  },
  "language_info": {
   "codemirror_mode": {
    "name": "ipython",
    "version": 3
   },
   "file_extension": ".py",
   "mimetype": "text/x-python",
   "name": "python",
   "nbconvert_exporter": "python",
   "pygments_lexer": "ipython3",
   "version": "3.12.7"
  }
 },
 "nbformat": 4,
 "nbformat_minor": 5
}
