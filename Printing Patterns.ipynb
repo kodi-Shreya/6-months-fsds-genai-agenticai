{
 "cells": [
  {
   "cell_type": "markdown",
   "id": "bb5c690b-b9ce-46b4-9f2c-dcd7a9637fe6",
   "metadata": {},
   "source": [
    "Right Angle Triangle Pattern "
   ]
  },
  {
   "cell_type": "code",
   "execution_count": 1,
   "id": "87357e0b-56de-419e-b516-b04021b4e2d4",
   "metadata": {},
   "outputs": [
    {
     "name": "stdout",
     "output_type": "stream",
     "text": [
      " * \n",
      " *  * \n",
      " *  *  * \n",
      " *  *  *  * \n",
      " *  *  *  *  * \n"
     ]
    }
   ],
   "source": [
    "for i in range(1,6):\n",
    "    print(' * ' *i)"
   ]
  },
  {
   "cell_type": "markdown",
   "id": "1a6b9389-2edd-40e2-a274-2cf6db97fdf4",
   "metadata": {},
   "source": [
    "Inverted right angle triangle"
   ]
  },
  {
   "cell_type": "code",
   "execution_count": 2,
   "id": "b9e591d7-dd13-4a95-8157-2ce419b386c2",
   "metadata": {},
   "outputs": [
    {
     "name": "stdout",
     "output_type": "stream",
     "text": [
      " *  *  *  *  * \n",
      " *  *  *  * \n",
      " *  *  * \n",
      " *  * \n",
      " * \n"
     ]
    }
   ],
   "source": [
    "for i in range(5,0,-1):\n",
    "    print(' * ' *i)"
   ]
  },
  {
   "cell_type": "markdown",
   "id": "ec5c0aa5-c2b5-4cd7-b54e-4bfb290474f5",
   "metadata": {},
   "source": [
    "Pyramid Patterns"
   ]
  },
  {
   "cell_type": "code",
   "execution_count": 5,
   "id": "babc2202-17ca-4864-a43f-9a6714037f84",
   "metadata": {},
   "outputs": [
    {
     "name": "stdout",
     "output_type": "stream",
     "text": [
      " * \n",
      " *  *  * \n",
      " *  *  *  *  * \n",
      " *  *  *  *  *  *  * \n",
      " *  *  *  *  *  *  *  *  * \n"
     ]
    }
   ],
   "source": [
    "for i in range(1,6):\n",
    "    print(''*(5-i)+ ' * '*(2*i-1))"
   ]
  },
  {
   "cell_type": "markdown",
   "id": "a58b7219-5672-4b5d-92bf-fef96fc0f9c8",
   "metadata": {},
   "source": [
    "Inverted Pyramid Pattern"
   ]
  },
  {
   "cell_type": "code",
   "execution_count": 6,
   "id": "51a5e8e1-ebb4-4457-b3e2-14d0e70b7b36",
   "metadata": {},
   "outputs": [
    {
     "name": "stdout",
     "output_type": "stream",
     "text": [
      " *  *  *  *  *  *  *  *  * \n",
      " *  *  *  *  *  *  * \n",
      " *  *  *  *  * \n",
      " *  *  * \n",
      " * \n"
     ]
    }
   ],
   "source": [
    "for i in range(5,0,-1):\n",
    "    print(''*(5-i)+ ' * '*(2*i-1))"
   ]
  },
  {
   "cell_type": "markdown",
   "id": "7bd78eae-37a7-43e1-9c63-c3938557fb3f",
   "metadata": {},
   "source": [
    "Diamond Pattern"
   ]
  },
  {
   "cell_type": "code",
   "execution_count": 8,
   "id": "414a80e9-79db-4ffe-bee1-ce7b3d3fda2d",
   "metadata": {},
   "outputs": [
    {
     "name": "stdout",
     "output_type": "stream",
     "text": [
      " * \n",
      " *  *  * \n",
      " *  *  *  *  * \n",
      " *  *  *  *  *  *  * \n",
      " *  *  *  *  *  *  *  *  * \n",
      " *  *  *  *  *  *  * \n",
      " *  *  *  *  * \n",
      " *  *  * \n",
      " * \n"
     ]
    }
   ],
   "source": [
    "for i in range(1,6):\n",
    "    print(''*(5-i)+' * '*(2*i-1))\n",
    "for i in range(4,0,-1):\n",
    "    print(''*(5-i)+' * '*(2*i-1))"
   ]
  },
  {
   "cell_type": "markdown",
   "id": "a9ce118a-be7d-44de-84d3-99a0979c00af",
   "metadata": {},
   "source": [
    "Hallow Square Pattern"
   ]
  },
  {
   "cell_type": "code",
   "execution_count": 10,
   "id": "ae8b4c24-3d2d-45b0-9c57-af6ca484c594",
   "metadata": {},
   "outputs": [
    {
     "name": "stdout",
     "output_type": "stream",
     "text": [
      "*****\n",
      "*   *\n",
      "*   *\n",
      "*   *\n",
      "*****\n"
     ]
    }
   ],
   "source": [
    "for i in range(5):\n",
    "    for j in range(5):\n",
    "        if i==0 or i==4 or j==0 or j==4:\n",
    "            print('*',end='')\n",
    "        else:\n",
    "            print(' ',end='')\n",
    "    print()"
   ]
  },
  {
   "cell_type": "markdown",
   "id": "6ff6cee9-8cfa-4cc1-8ac2-114a19559c5e",
   "metadata": {},
   "source": [
    "Full Square Pattern"
   ]
  },
  {
   "cell_type": "code",
   "execution_count": 11,
   "id": "a8ec6f4c-12c8-4965-aafe-2decdba39af2",
   "metadata": {},
   "outputs": [
    {
     "name": "stdout",
     "output_type": "stream",
     "text": [
      " *  *  *  *  * \n",
      " *  *  *  *  * \n",
      " *  *  *  *  * \n",
      " *  *  *  *  * \n",
      " *  *  *  *  * \n"
     ]
    }
   ],
   "source": [
    "for i in range(5):\n",
    "    print(' * '*5)"
   ]
  },
  {
   "cell_type": "markdown",
   "id": "6cd72a8f-847c-4118-b16e-05717c062c33",
   "metadata": {},
   "source": [
    "Right Angle Traingle(Number Pattern)"
   ]
  },
  {
   "cell_type": "code",
   "execution_count": 13,
   "id": "a7e32173-42ac-4215-ac77-d644cb03f472",
   "metadata": {},
   "outputs": [
    {
     "name": "stdout",
     "output_type": "stream",
     "text": [
      "1\n",
      "1 2\n",
      "1 2 3\n",
      "1 2 3 4\n",
      "1 2 3 4 5\n"
     ]
    }
   ],
   "source": [
    "for i in range(1,6):\n",
    "    print(' '.join(str(x) for x in range(1,i + 1)))"
   ]
  },
  {
   "cell_type": "markdown",
   "id": "57db463a-99b9-475f-a711-e5852307e242",
   "metadata": {},
   "source": [
    "Inverted Right Angle Traingle"
   ]
  },
  {
   "cell_type": "code",
   "execution_count": 15,
   "id": "598c7ba7-fe46-420a-85d9-540eb1724097",
   "metadata": {},
   "outputs": [
    {
     "name": "stdout",
     "output_type": "stream",
     "text": [
      "1 2 3 4 5\n",
      "1 2 3 4\n",
      "1 2 3\n",
      "1 2\n",
      "1\n"
     ]
    }
   ],
   "source": [
    "for i in range(5,0,-1):\n",
    "    print(' '.join(str(x) for x in range(1,i + 1)))"
   ]
  },
  {
   "cell_type": "markdown",
   "id": "4088679f-b8e4-483b-a59e-61cc49a3e11f",
   "metadata": {},
   "source": [
    "Floyd's Traingle"
   ]
  },
  {
   "cell_type": "code",
   "execution_count": 16,
   "id": "dffddaaa-cce1-4343-b21d-f57aa32dc3e9",
   "metadata": {},
   "outputs": [
    {
     "name": "stdout",
     "output_type": "stream",
     "text": [
      "1 \n",
      "2 3 \n",
      "4 5 6 \n",
      "7 8 9 10 \n",
      "11 12 13 14 15 \n"
     ]
    }
   ],
   "source": [
    "num=1\n",
    "for i in range(1,6):\n",
    "    for j in range(1,i+1):\n",
    "        print(num,end=' ')\n",
    "        num+=1\n",
    "    print()"
   ]
  },
  {
   "cell_type": "markdown",
   "id": "2fcf37be-d0c2-4326-be19-ed87bd87217a",
   "metadata": {},
   "source": [
    "Hallow Right Angle Traingle"
   ]
  },
  {
   "cell_type": "code",
   "execution_count": 20,
   "id": "1610e4ac-4106-42f4-a9e2-d9c4cfc610a2",
   "metadata": {},
   "outputs": [
    {
     "name": "stdout",
     "output_type": "stream",
     "text": [
      "* \n",
      "* * \n",
      "*   * \n",
      "*     * \n",
      "* * * * * \n"
     ]
    }
   ],
   "source": [
    "for i in range(1,6):\n",
    "    for j in range(1,i+1):\n",
    "        if j==1 or j==i or i==5:\n",
    "            print( '*' ,end=' ')\n",
    "        else:\n",
    "            print(' ',end=' ' )\n",
    "    print()"
   ]
  },
  {
   "cell_type": "markdown",
   "id": "dfc5d40d-790d-47e3-892c-4f408fc8e4c3",
   "metadata": {},
   "source": [
    "Hallow Pyramid Pattern"
   ]
  },
  {
   "cell_type": "code",
   "execution_count": 21,
   "id": "94838276-3a30-4d90-b2ab-752e5cf558ab",
   "metadata": {},
   "outputs": [
    {
     "name": "stdout",
     "output_type": "stream",
     "text": [
      "        * \n",
      "      *   * \n",
      "    *       * \n",
      "  *           * \n",
      "* * * * * * * * * \n"
     ]
    }
   ],
   "source": [
    "for i in range(1,6):\n",
    "    for j in range(5 - i):\n",
    "        print(' ', end=' ')\n",
    "    for j in range(2 * i - 1):\n",
    "        if j == 0 or j == 2 * i - 2 or i == 5:\n",
    "            print('*',end=' ')\n",
    "        else:\n",
    "            print(' ',end=' ')\n",
    "    print()\n"
   ]
  },
  {
   "cell_type": "markdown",
   "id": "e9af1bb4-ca12-4bbe-9265-d0144f3ccd08",
   "metadata": {},
   "source": [
    "Hallow Diamond Pattern"
   ]
  },
  {
   "cell_type": "code",
   "execution_count": 22,
   "id": "d9a04039-4daf-4a69-9c18-bd8d66ec6274",
   "metadata": {},
   "outputs": [
    {
     "name": "stdout",
     "output_type": "stream",
     "text": [
      "        * \n",
      "      *   * \n",
      "    *       * \n",
      "  *           * \n",
      "*               * \n",
      "  *           * \n",
      "    *       * \n",
      "      *   * \n",
      "        * \n"
     ]
    }
   ],
   "source": [
    "n=5\n",
    "for i in range(1,n+1):\n",
    "    for j in range(n-i):\n",
    "        print(' ', end=' ')\n",
    "    for j in range(2 * i - 1):\n",
    "        if j == 0 or j == 2 * i - 2:\n",
    "            print('*',end= ' ')\n",
    "        else:\n",
    "            print(' ', end=' ')\n",
    "    print()\n",
    "\n",
    "for i in range(n - 1,0,-1):\n",
    "    for j in range(n-i):\n",
    "        print(' ',end=' ')\n",
    "    for j in range(2 * i - 1):\n",
    "        if j == 0 or j == 2 * i - 2:\n",
    "            print('*', end=' ')\n",
    "        else:\n",
    "            print(' ',end= ' ')\n",
    "    print()"
   ]
  },
  {
   "cell_type": "markdown",
   "id": "f3e1b8fa-a414-4fba-bf56-c455480aca40",
   "metadata": {},
   "source": [
    "Hallow Diamond(Number Pattern)"
   ]
  },
  {
   "cell_type": "code",
   "execution_count": 24,
   "id": "b49d9762-715e-44b9-bee1-cdec49aadf17",
   "metadata": {},
   "outputs": [
    {
     "name": "stdout",
     "output_type": "stream",
     "text": [
      "        1 \n",
      "      2   2 \n",
      "    3       3 \n",
      "  4           4 \n",
      "5               5 \n",
      "  4           4 \n",
      "    3       3 \n",
      "      2   2 \n",
      "        1 \n"
     ]
    }
   ],
   "source": [
    "n=5\n",
    "for i in range(1,n+1):\n",
    "    for j in range(n-i):\n",
    "        print(' ', end=' ')\n",
    "    for j in range(2 * i - 1):\n",
    "        if j == 0 or j == 2 * i - 2:\n",
    "            print(i,end= ' ')\n",
    "        else:\n",
    "            print(' ', end=' ')\n",
    "    print()\n",
    "\n",
    "for i in range(n - 1,0,-1):\n",
    "    for j in range(n-i):\n",
    "        print(' ',end=' ')\n",
    "    for j in range(2 * i - 1):\n",
    "        if j == 0 or j == 2 * i - 2:\n",
    "            print(i, end=' ')\n",
    "        else:\n",
    "            print(' ',end= ' ')\n",
    "    print()"
   ]
  },
  {
   "cell_type": "markdown",
   "id": "d9f7da42-b2fe-4e29-a970-c01dcb7446fc",
   "metadata": {},
   "source": [
    "Butterfly Pattern"
   ]
  },
  {
   "cell_type": "code",
   "execution_count": 30,
   "id": "b17eac92-26bb-4297-aaf4-6b3ae244797a",
   "metadata": {},
   "outputs": [
    {
     "name": "stdout",
     "output_type": "stream",
     "text": [
      "1                 1 \n",
      "1 2             1 2 \n",
      "1 2 3         1 2 3 \n",
      "1 2 3 4     1 2 3 4 \n",
      "1 2 3 4 5 1 2 3 4 5 \n",
      "1 2 3 4 5 1 2 3 4 5 \n",
      "1 2 3 4     1 2 3 4 \n",
      "1 2 3         1 2 3 \n",
      "1 2             1 2 \n",
      "1                 1 \n",
      "*                 * \n",
      "* *             * * \n",
      "* * *         * * * \n",
      "* * * *     * * * * \n",
      "* * * * * * * * * * \n",
      "* * * * * * * * * * \n",
      "* * * *     * * * * \n",
      "* * *         * * * \n",
      "* *             * * \n",
      "*                 * \n"
     ]
    }
   ],
   "source": [
    "n=5\n",
    "for i in range(1,n+1):\n",
    "    for j in range(1,i+1):\n",
    "        print(j,end=' ')\n",
    "    for j in range(2*(n-i)):\n",
    "        print(' ',end=' ')\n",
    "    for j in range(1,i+1):\n",
    "        print(j,end=' ')\n",
    "    print()\n",
    "for i in range(n,0,-1):\n",
    "    for j in range(1,i+1):\n",
    "        print(j,end=' ')\n",
    "    for j in range(2 * (n-i)):\n",
    "        print(' ',end=' ')\n",
    "    for j in range(1,i+1):\n",
    "        print(j,end=' ')\n",
    "    print()\n",
    "\n",
    "n=5\n",
    "for i in range(1,n+1):\n",
    "    for j in range(i):\n",
    "        print('*',end=' ')\n",
    "    for j in range(2*(n-i)):\n",
    "        print(' ',end=' ')\n",
    "    for j in range(i):\n",
    "        print('*',end=' ')\n",
    "    print()\n",
    "for i in range(n,0,-1):\n",
    "    for j in range(i):\n",
    "        print('*',end=' ')\n",
    "    for j in range(2*(n-i)):\n",
    "        print(' ',end=' ')\n",
    "    for j in range(i):\n",
    "        print('*',end=' ')\n",
    "    print()"
   ]
  },
  {
   "cell_type": "markdown",
   "id": "935e4ede-32b0-4222-ac95-ae89bb98f8a3",
   "metadata": {},
   "source": [
    "Hallow Number Pyramid"
   ]
  },
  {
   "cell_type": "code",
   "execution_count": 32,
   "id": "1cbc3ba0-684f-471b-bed8-9711833dbadc",
   "metadata": {},
   "outputs": [
    {
     "name": "stdout",
     "output_type": "stream",
     "text": [
      "        1 \n",
      "      2   2 \n",
      "    3       3 \n",
      "  4           4 \n",
      "5 5 5 5 5 5 5 5 5 \n"
     ]
    }
   ],
   "source": [
    "n=5\n",
    "for i in range(1,n+1):\n",
    "    for j in range(n-i):\n",
    "        print(' ',end=' ')\n",
    "    for j in range(1,2*i):\n",
    "        if j == 1 or j == 2*i-1 or i == n:\n",
    "            print(i,end=' ')\n",
    "        else:\n",
    "            print(' ',end=' ')\n",
    "    print()"
   ]
  },
  {
   "cell_type": "markdown",
   "id": "c922170f-41c5-405b-a00e-8cd642e0321a",
   "metadata": {},
   "source": [
    "Full Star Pyramid"
   ]
  },
  {
   "cell_type": "code",
   "execution_count": 33,
   "id": "8b9dbf11-1728-46fb-96c1-d38baa1ba724",
   "metadata": {},
   "outputs": [
    {
     "name": "stdout",
     "output_type": "stream",
     "text": [
      "        * \n",
      "      * * * \n",
      "    * * * * * \n",
      "  * * * * * * * \n",
      "* * * * * * * * * \n"
     ]
    }
   ],
   "source": [
    "n=5\n",
    "for i in range(1,n+1):\n",
    "    for j in range(n-i):\n",
    "        print(' ',end=' ')\n",
    "    for j in range(2*i-1):\n",
    "        print('*',end=' ')\n",
    "    print()"
   ]
  },
  {
   "cell_type": "markdown",
   "id": "25c6c2ae-ecb7-4019-b16f-e8912dc2546e",
   "metadata": {},
   "source": [
    "Inverted Full Star Pyramid"
   ]
  },
  {
   "cell_type": "code",
   "execution_count": 34,
   "id": "b9ab6709-a31b-4de3-bf3c-cd4321c13a85",
   "metadata": {},
   "outputs": [
    {
     "name": "stdout",
     "output_type": "stream",
     "text": [
      "* * * * * * * * * \n",
      "  * * * * * * * \n",
      "    * * * * * \n",
      "      * * * \n",
      "        * \n"
     ]
    }
   ],
   "source": [
    "n=5\n",
    "for i in range(n,0,-1):\n",
    "    for j in range(n-i):\n",
    "        print(' ',end=' ')\n",
    "    for j in range(2*i-1):\n",
    "        print('*',end=' ')\n",
    "    print()"
   ]
  },
  {
   "cell_type": "markdown",
   "id": "ed00c495-535d-4e29-9fee-674aa0734edd",
   "metadata": {},
   "source": [
    "Left Aligned Pyramid Pattern"
   ]
  },
  {
   "cell_type": "code",
   "execution_count": 35,
   "id": "76f6f801-789f-4d5b-bb49-58058c7bd61a",
   "metadata": {},
   "outputs": [
    {
     "name": "stdout",
     "output_type": "stream",
     "text": [
      "* \n",
      "* * \n",
      "* * * \n",
      "* * * * \n",
      "* * * * * \n",
      "1 \n",
      "1 2 \n",
      "1 2 3 \n",
      "1 2 3 4 \n",
      "1 2 3 4 5 \n"
     ]
    }
   ],
   "source": [
    "n=5\n",
    "for i in range(1,n+1):\n",
    "    for j in range(i):\n",
    "        print('*',end=' ')\n",
    "    print()\n",
    "n=5\n",
    "for i in range(1,n+1):\n",
    "    for j in range(1,i+1):\n",
    "        print(j,end=' ')\n",
    "    print()"
   ]
  },
  {
   "cell_type": "markdown",
   "id": "5b5575e6-57d3-4ecb-a795-6775d5124113",
   "metadata": {},
   "source": [
    "Right Aligned Pyramid Traingle"
   ]
  },
  {
   "cell_type": "code",
   "execution_count": 36,
   "id": "44762090-24df-4dff-b1c5-9a9ec6228796",
   "metadata": {},
   "outputs": [
    {
     "name": "stdout",
     "output_type": "stream",
     "text": [
      "        1 \n",
      "      1 2 \n",
      "    1 2 3 \n",
      "  1 2 3 4 \n",
      "1 2 3 4 5 \n",
      "        * \n",
      "      * * \n",
      "    * * * \n",
      "  * * * * \n",
      "* * * * * \n"
     ]
    }
   ],
   "source": [
    "n=5\n",
    "for i in range(1,n+1):\n",
    "    for j in range(n-i):\n",
    "        print(' ',end=' ')\n",
    "    for j in range(1,i+1):\n",
    "        print(j,end=' ')\n",
    "    print()\n",
    "n=5\n",
    "for i in range(1,n+1):\n",
    "    for j in range(n-i):\n",
    "        print(' ',end=' ')\n",
    "    for j in range(i):\n",
    "        print('*',end=' ')\n",
    "    print()"
   ]
  },
  {
   "cell_type": "code",
   "execution_count": null,
   "id": "9cfb2d36-dd3e-4633-bb4b-7f5eaeb2b602",
   "metadata": {},
   "outputs": [],
   "source": []
  }
 ],
 "metadata": {
  "kernelspec": {
   "display_name": "Python [conda env:base] *",
   "language": "python",
   "name": "conda-base-py"
  },
  "language_info": {
   "codemirror_mode": {
    "name": "ipython",
    "version": 3
   },
   "file_extension": ".py",
   "mimetype": "text/x-python",
   "name": "python",
   "nbconvert_exporter": "python",
   "pygments_lexer": "ipython3",
   "version": "3.12.7"
  }
 },
 "nbformat": 4,
 "nbformat_minor": 5
}
