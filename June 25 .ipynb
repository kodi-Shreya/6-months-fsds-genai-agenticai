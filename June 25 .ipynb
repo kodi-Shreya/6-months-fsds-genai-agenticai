{
 "cells": [
  {
   "cell_type": "code",
   "execution_count": null,
   "id": "5f159d73-6bdc-4525-be75-50ae9dbb0b7d",
   "metadata": {},
   "outputs": [],
   "source": [
    "t1=()"
   ]
  },
  {
   "cell_type": "code",
   "execution_count": null,
   "id": "30e069c7-c8e9-4280-b0d1-6eff705f03fd",
   "metadata": {},
   "outputs": [],
   "source": [
    "t2=(10,20,30)"
   ]
  },
  {
   "cell_type": "code",
   "execution_count": null,
   "id": "ca657321-a437-4153-b9ba-c93d2e1e8f3e",
   "metadata": {},
   "outputs": [],
   "source": [
    "t3=(10.77,30.66,60.89)"
   ]
  },
  {
   "cell_type": "code",
   "execution_count": null,
   "id": "57661cd2-840f-4487-b334-74ba93524da0",
   "metadata": {},
   "outputs": [],
   "source": [
    "t4=('one','two','three')"
   ]
  },
  {
   "cell_type": "code",
   "execution_count": null,
   "id": "1861a87e-3ede-4fa2-85e2-eff866f0b754",
   "metadata": {},
   "outputs": [],
   "source": [
    "t5=('Asif',25,(50,100),(150,90))"
   ]
  },
  {
   "cell_type": "code",
   "execution_count": null,
   "id": "738377a9-0ed4-4b02-bff0-7c23823d5526",
   "metadata": {},
   "outputs": [],
   "source": [
    "t6=(100,'Asif',17.765)"
   ]
  },
  {
   "cell_type": "code",
   "execution_count": 2,
   "id": "c0fafdc6-7d40-4f4a-acb8-e017ca214a6d",
   "metadata": {},
   "outputs": [
    {
     "data": {
      "text/plain": [
       "6"
      ]
     },
     "execution_count": 2,
     "metadata": {},
     "output_type": "execute_result"
    }
   ],
   "source": [
    "t7=('Asif',25,[50,100],[150,90],{'John','David'},(99,22,33))\n",
    "len(t7)"
   ]
  },
  {
   "cell_type": "markdown",
   "id": "d16d22f7-8748-4818-b4f1-64af2807cc13",
   "metadata": {},
   "source": [
    "Tuple indexing"
   ]
  },
  {
   "cell_type": "code",
   "execution_count": 5,
   "id": "6321e292-076e-4d45-9e4c-0cc759793833",
   "metadata": {},
   "outputs": [
    {
     "data": {
      "text/plain": [
       "10"
      ]
     },
     "execution_count": 5,
     "metadata": {},
     "output_type": "execute_result"
    }
   ],
   "source": [
    "t2=(10,20,30)\n",
    "t2[0]"
   ]
  },
  {
   "cell_type": "code",
   "execution_count": 2,
   "id": "d129f819-ead6-41b6-94c0-40bcb73d0207",
   "metadata": {},
   "outputs": [
    {
     "name": "stdout",
     "output_type": "stream",
     "text": [
      "one\n",
      "o\n",
      "three\n"
     ]
    }
   ],
   "source": [
    "t4=('one','two','three')\n",
    "print(t4[0])\n",
    "print(t4[0][0])\n",
    "print(t4[-1])"
   ]
  },
  {
   "cell_type": "code",
   "execution_count": 3,
   "id": "bdbbf8d6-dd7b-42c9-91f6-4df6c34b3ae6",
   "metadata": {},
   "outputs": [
    {
     "data": {
      "text/plain": [
       "(150, 90)"
      ]
     },
     "execution_count": 3,
     "metadata": {},
     "output_type": "execute_result"
    }
   ],
   "source": [
    "t5=('Asif',25,(50,100),(150,90))\n",
    "t5[-1]"
   ]
  },
  {
   "cell_type": "markdown",
   "id": "0ce130e2-7ed0-47a2-8918-fe5ed907c3bb",
   "metadata": {},
   "source": [
    "Tuple slicing"
   ]
  },
  {
   "cell_type": "code",
   "execution_count": 8,
   "id": "b1a239f7-b1f2-4cb8-83c3-5aaedeb4799a",
   "metadata": {},
   "outputs": [
    {
     "name": "stdout",
     "output_type": "stream",
     "text": [
      "('one', 'two', 'three')\n",
      "('three', 'four', 'five')\n",
      "('one', 'two', 'three')\n",
      "('one', 'two')\n",
      "('six', 'seven', 'eight')\n",
      "('seven', 'eight')\n",
      "eight\n",
      "('one', 'two', 'three', 'four', 'five', 'six', 'seven', 'eight')\n"
     ]
    }
   ],
   "source": [
    "mytuple=('one','two','three','four','five','six','seven','eight')\n",
    "print(mytuple[0:3])\n",
    "print(mytuple[2:5])\n",
    "print(mytuple[:3])\n",
    "print(mytuple[:2])\n",
    "print(mytuple[-3:])\n",
    "print(mytuple[-2:])\n",
    "print(mytuple[-1])\n",
    "print(mytuple[:])"
   ]
  },
  {
   "cell_type": "markdown",
   "id": "1ea9b0b1-921e-42c6-9c55-c98609f11d47",
   "metadata": {},
   "source": [
    "Remove & change items"
   ]
  },
  {
   "cell_type": "code",
   "execution_count": 9,
   "id": "116da2d7-5189-4e05-978a-460aba1f5d90",
   "metadata": {},
   "outputs": [
    {
     "data": {
      "text/plain": [
       "('one', 'two', 'three', 'four', 'five', 'six', 'seven', 'eight')"
      ]
     },
     "execution_count": 9,
     "metadata": {},
     "output_type": "execute_result"
    }
   ],
   "source": [
    "mytuple"
   ]
  },
  {
   "cell_type": "code",
   "execution_count": 10,
   "id": "3a702c57-b25c-4c3d-b688-96cb314a4a4a",
   "metadata": {},
   "outputs": [
    {
     "ename": "TypeError",
     "evalue": "'tuple' object doesn't support item deletion",
     "output_type": "error",
     "traceback": [
      "\u001b[1;31m---------------------------------------------------------------------------\u001b[0m",
      "\u001b[1;31mTypeError\u001b[0m                                 Traceback (most recent call last)",
      "Cell \u001b[1;32mIn[10], line 1\u001b[0m\n\u001b[1;32m----> 1\u001b[0m \u001b[38;5;28;01mdel\u001b[39;00m mytuple[\u001b[38;5;241m0\u001b[39m]\n",
      "\u001b[1;31mTypeError\u001b[0m: 'tuple' object doesn't support item deletion"
     ]
    }
   ],
   "source": [
    "del mytuple[0]"
   ]
  },
  {
   "cell_type": "code",
   "execution_count": 11,
   "id": "a349ab7d-cccb-4362-a0aa-0a0a28e0dcf1",
   "metadata": {},
   "outputs": [
    {
     "ename": "TypeError",
     "evalue": "'tuple' object does not support item assignment",
     "output_type": "error",
     "traceback": [
      "\u001b[1;31m---------------------------------------------------------------------------\u001b[0m",
      "\u001b[1;31mTypeError\u001b[0m                                 Traceback (most recent call last)",
      "Cell \u001b[1;32mIn[11], line 1\u001b[0m\n\u001b[1;32m----> 1\u001b[0m mytuple[\u001b[38;5;241m0\u001b[39m]\u001b[38;5;241m=\u001b[39m\u001b[38;5;241m1\u001b[39m\n",
      "\u001b[1;31mTypeError\u001b[0m: 'tuple' object does not support item assignment"
     ]
    }
   ],
   "source": [
    "mytuple[0]=1"
   ]
  },
  {
   "cell_type": "code",
   "execution_count": 12,
   "id": "8a7b5415-1cd8-40d3-9f05-0e800f1a81b8",
   "metadata": {},
   "outputs": [],
   "source": [
    "del mytuple"
   ]
  },
  {
   "cell_type": "markdown",
   "id": "d631bc7a-c785-43cd-bdc4-c0a09cd025f9",
   "metadata": {},
   "source": [
    "Loop through a tuple"
   ]
  },
  {
   "cell_type": "code",
   "execution_count": 9,
   "id": "a49f6cd4-9530-4613-a6c3-09c650de4409",
   "metadata": {},
   "outputs": [
    {
     "data": {
      "text/plain": [
       "('one', 'two', 'three', 'four', 'five', 'six', 'seven', 'eight')"
      ]
     },
     "execution_count": 9,
     "metadata": {},
     "output_type": "execute_result"
    }
   ],
   "source": [
    "mytuple"
   ]
  },
  {
   "cell_type": "code",
   "execution_count": 17,
   "id": "53bc4884-8854-4ed8-898b-d53f7298326e",
   "metadata": {},
   "outputs": [
    {
     "name": "stdout",
     "output_type": "stream",
     "text": [
      "one\n",
      "two\n",
      "three\n",
      "four\n",
      "five\n",
      "six\n",
      "seven\n",
      "eight\n"
     ]
    }
   ],
   "source": [
    "mytuple=('one','two','three','four','five','six','seven','eight')\n",
    "for i in mytuple:\n",
    "    print(i)"
   ]
  },
  {
   "cell_type": "code",
   "execution_count": 18,
   "id": "3152320b-63d7-4af0-a06d-54236be90b9d",
   "metadata": {},
   "outputs": [
    {
     "name": "stdout",
     "output_type": "stream",
     "text": [
      "(0, 'one')\n",
      "(1, 'two')\n",
      "(2, 'three')\n",
      "(3, 'four')\n",
      "(4, 'five')\n",
      "(5, 'six')\n",
      "(6, 'seven')\n",
      "(7, 'eight')\n"
     ]
    }
   ],
   "source": [
    "for i in enumerate(mytuple):\n",
    "    print(i)"
   ]
  },
  {
   "cell_type": "markdown",
   "id": "2dd32e93-69a7-43da-84e6-5c8c67ac6902",
   "metadata": {},
   "source": [
    "Tuple membership"
   ]
  },
  {
   "cell_type": "code",
   "execution_count": 19,
   "id": "e6b99469-68e4-46b3-81ee-143d683edf1a",
   "metadata": {},
   "outputs": [
    {
     "data": {
      "text/plain": [
       "('one', 'two', 'three', 'four', 'five', 'six', 'seven', 'eight')"
      ]
     },
     "execution_count": 19,
     "metadata": {},
     "output_type": "execute_result"
    }
   ],
   "source": [
    "mytuple"
   ]
  },
  {
   "cell_type": "code",
   "execution_count": 20,
   "id": "4595c73e-f29d-4192-a222-bd6cdd17bc40",
   "metadata": {},
   "outputs": [
    {
     "data": {
      "text/plain": [
       "True"
      ]
     },
     "execution_count": 20,
     "metadata": {},
     "output_type": "execute_result"
    }
   ],
   "source": [
    "'one' in mytuple"
   ]
  },
  {
   "cell_type": "code",
   "execution_count": 21,
   "id": "6c8dd7de-b130-4f71-9c26-5a8d35e0547b",
   "metadata": {},
   "outputs": [
    {
     "data": {
      "text/plain": [
       "False"
      ]
     },
     "execution_count": 21,
     "metadata": {},
     "output_type": "execute_result"
    }
   ],
   "source": [
    "'ten' in mytuple"
   ]
  },
  {
   "cell_type": "code",
   "execution_count": 22,
   "id": "7eb11744-a26a-4763-81aa-d76fd355bea3",
   "metadata": {},
   "outputs": [
    {
     "name": "stdout",
     "output_type": "stream",
     "text": [
      "Three is present in the tuple\n"
     ]
    }
   ],
   "source": [
    "if 'three' in mytuple:\n",
    "    print('Three is present in the tuple')\n",
    "else:\n",
    "    print('Three is not present in the tuple')"
   ]
  },
  {
   "cell_type": "code",
   "execution_count": 23,
   "id": "3350373f-f7cc-4e70-803b-c6ee23357b7e",
   "metadata": {},
   "outputs": [
    {
     "name": "stdout",
     "output_type": "stream",
     "text": [
      "fifteen is not present in the tuple\n"
     ]
    }
   ],
   "source": [
    "if 'fifteen' in mytuple:\n",
    "    print('fifteen is present in the tuple')\n",
    "else:\n",
    "    print('fifteen is not present in the tuple')"
   ]
  },
  {
   "cell_type": "markdown",
   "id": "a0cd1edd-4a86-4645-a587-14932c977783",
   "metadata": {},
   "source": [
    "Index position"
   ]
  },
  {
   "cell_type": "code",
   "execution_count": 24,
   "id": "ed4ff65a-81d5-4458-881a-bb15a16adc2c",
   "metadata": {},
   "outputs": [
    {
     "data": {
      "text/plain": [
       "('one', 'two', 'three', 'four', 'five', 'six', 'seven', 'eight')"
      ]
     },
     "execution_count": 24,
     "metadata": {},
     "output_type": "execute_result"
    }
   ],
   "source": [
    "mytuple"
   ]
  },
  {
   "cell_type": "code",
   "execution_count": 25,
   "id": "3117ead5-ae58-4cce-ae07-95929f8c6b3b",
   "metadata": {},
   "outputs": [
    {
     "data": {
      "text/plain": [
       "0"
      ]
     },
     "execution_count": 25,
     "metadata": {},
     "output_type": "execute_result"
    }
   ],
   "source": [
    "mytuple.index('one')"
   ]
  },
  {
   "cell_type": "code",
   "execution_count": 26,
   "id": "6fb20d53-0197-409f-a94f-5fbfff4527d0",
   "metadata": {},
   "outputs": [
    {
     "data": {
      "text/plain": [
       "4"
      ]
     },
     "execution_count": 26,
     "metadata": {},
     "output_type": "execute_result"
    }
   ],
   "source": [
    "mytuple.index('five')"
   ]
  },
  {
   "cell_type": "code",
   "execution_count": 29,
   "id": "fbb29956-7647-40dd-a79e-78516e11ee42",
   "metadata": {},
   "outputs": [
    {
     "data": {
      "text/plain": [
       "('one', 'two', 'three', 'four', 'one', 'one', 'two', 'three')"
      ]
     },
     "execution_count": 29,
     "metadata": {},
     "output_type": "execute_result"
    }
   ],
   "source": [
    "mytuple1=('one','two','three','four','one','one','two','three')\n",
    "mytuple1"
   ]
  },
  {
   "cell_type": "code",
   "execution_count": 30,
   "id": "915d0b87-5c0b-4470-b643-1e2e374a11ad",
   "metadata": {},
   "outputs": [
    {
     "data": {
      "text/plain": [
       "0"
      ]
     },
     "execution_count": 30,
     "metadata": {},
     "output_type": "execute_result"
    }
   ],
   "source": [
    "mytuple1.index('one')"
   ]
  },
  {
   "cell_type": "markdown",
   "id": "7efabcf6-479d-4efc-87af-6f0e745b4c5b",
   "metadata": {},
   "source": [
    "Sorting"
   ]
  },
  {
   "cell_type": "code",
   "execution_count": null,
   "id": "a69619c1-22a8-4054-9404-70bf57cf26a8",
   "metadata": {},
   "outputs": [],
   "source": [
    "mytuple2=(43,67,99,12,6,90,67)"
   ]
  },
  {
   "cell_type": "code",
   "execution_count": 32,
   "id": "34f2c7aa-09ab-4f45-b67d-d8b72e7d1abf",
   "metadata": {},
   "outputs": [
    {
     "data": {
      "text/plain": [
       "[6, 12, 43, 67, 67, 90, 99]"
      ]
     },
     "execution_count": 32,
     "metadata": {},
     "output_type": "execute_result"
    }
   ],
   "source": [
    "mytuple2=(43,67,99,12,6,90,67)\n",
    "sorted(mytuple2)"
   ]
  },
  {
   "cell_type": "code",
   "execution_count": 33,
   "id": "8fdbf2d6-6cb0-46ec-8503-26c21dc223f7",
   "metadata": {},
   "outputs": [
    {
     "data": {
      "text/plain": [
       "[99, 90, 67, 67, 43, 12, 6]"
      ]
     },
     "execution_count": 33,
     "metadata": {},
     "output_type": "execute_result"
    }
   ],
   "source": [
    "sorted(mytuple2,reverse=True)"
   ]
  }
 ],
 "metadata": {
  "kernelspec": {
   "display_name": "Python [conda env:base] *",
   "language": "python",
   "name": "conda-base-py"
  },
  "language_info": {
   "codemirror_mode": {
    "name": "ipython",
    "version": 3
   },
   "file_extension": ".py",
   "mimetype": "text/x-python",
   "name": "python",
   "nbconvert_exporter": "python",
   "pygments_lexer": "ipython3",
   "version": "3.12.7"
  }
 },
 "nbformat": 4,
 "nbformat_minor": 5
}
