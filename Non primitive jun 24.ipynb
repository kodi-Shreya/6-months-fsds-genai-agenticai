{
 "cells": [
  {
   "cell_type": "code",
   "execution_count": 1,
   "id": "74b8a281-8edb-4982-82cb-b5f77b472dde",
   "metadata": {},
   "outputs": [
    {
     "data": {
      "text/plain": [
       "'abc def ghi'"
      ]
     },
     "execution_count": 1,
     "metadata": {},
     "output_type": "execute_result"
    }
   ],
   "source": [
    "txt=\"abc def ghi\"\n",
    "txt.lstrip()"
   ]
  },
  {
   "cell_type": "code",
   "execution_count": 3,
   "id": "f51e442f-4a47-476c-8cd1-edf2dc07c7ef",
   "metadata": {},
   "outputs": [
    {
     "data": {
      "text/plain": [
       "'abc def ghi'"
      ]
     },
     "execution_count": 3,
     "metadata": {},
     "output_type": "execute_result"
    }
   ],
   "source": [
    "txt=\"abc def ghi\"\n",
    "txt.strip()"
   ]
  },
  {
   "cell_type": "code",
   "execution_count": 4,
   "id": "14b47929-3eb5-44ab-b05a-0de6d35a3cac",
   "metadata": {},
   "outputs": [
    {
     "ename": "SyntaxError",
     "evalue": "invalid syntax (3496104258.py, line 1)",
     "output_type": "error",
     "traceback": [
      "\u001b[1;36m  Cell \u001b[1;32mIn[4], line 1\u001b[1;36m\u001b[0m\n\u001b[1;33m    mystr=\"My favourite TV Series is\"Game of Thrones\"\"\u001b[0m\n\u001b[1;37m                                     ^\u001b[0m\n\u001b[1;31mSyntaxError\u001b[0m\u001b[1;31m:\u001b[0m invalid syntax\n"
     ]
    }
   ],
   "source": [
    "mystr=\"My favourite TV Series is\"Game of Thrones\"\""
   ]
  },
  {
   "cell_type": "code",
   "execution_count": 6,
   "id": "68c8989c-955e-4378-ada8-ce1020547825",
   "metadata": {},
   "outputs": [
    {
     "name": "stdout",
     "output_type": "stream",
     "text": [
      "My favorite series is \"Game of Thrones\"\n"
     ]
    }
   ],
   "source": [
    "mystr=\"My favorite series is \\\"Game of Thrones\\\"\"\n",
    "print(mystr)"
   ]
  },
  {
   "cell_type": "code",
   "execution_count": 9,
   "id": "00a873cb-d97a-438e-82fe-1c4287032163",
   "metadata": {},
   "outputs": [],
   "source": [
    "list1=[] "
   ]
  },
  {
   "cell_type": "code",
   "execution_count": 10,
   "id": "388a01ff-c785-47af-a122-13418dd4076d",
   "metadata": {},
   "outputs": [
    {
     "name": "stdout",
     "output_type": "stream",
     "text": [
      "<class 'list'>\n"
     ]
    }
   ],
   "source": [
    "print(type(list1))"
   ]
  },
  {
   "cell_type": "code",
   "execution_count": 15,
   "id": "ca19388b-5294-4d60-b08d-53259ad9a133",
   "metadata": {},
   "outputs": [
    {
     "data": {
      "text/plain": [
       "10"
      ]
     },
     "execution_count": 15,
     "metadata": {},
     "output_type": "execute_result"
    }
   ],
   "source": [
    "list2=[10,20,30]\n",
    "list2[0]"
   ]
  },
  {
   "cell_type": "code",
   "execution_count": null,
   "id": "2bd8482c-1ff5-4cea-8092-5cd87a085b5f",
   "metadata": {},
   "outputs": [],
   "source": [
    "list3=[10.77,30.66,60.89]"
   ]
  },
  {
   "cell_type": "code",
   "execution_count": 23,
   "id": "4f09a059-4b80-48c7-adb6-fbab367e783b",
   "metadata": {},
   "outputs": [
    {
     "name": "stdout",
     "output_type": "stream",
     "text": [
      "one\n",
      "o\n",
      "three\n"
     ]
    }
   ],
   "source": [
    "list4=['one','two',\"three\"]\n",
    "print(list4[0])\n",
    "print(list4[0][0])\n",
    "print(list4[-1])\n"
   ]
  },
  {
   "cell_type": "code",
   "execution_count": 24,
   "id": "385559ca-2b91-456b-93d5-e443692a4d09",
   "metadata": {},
   "outputs": [
    {
     "data": {
      "text/plain": [
       "[150, 90]"
      ]
     },
     "execution_count": 24,
     "metadata": {},
     "output_type": "execute_result"
    }
   ],
   "source": [
    "list5=['Asif',25,[50,100],[150,90]]\n",
    "list5[-1]\n",
    "       "
   ]
  },
  {
   "cell_type": "code",
   "execution_count": 13,
   "id": "a4d39c8e-9956-457d-bd96-0d76c400c80a",
   "metadata": {},
   "outputs": [
    {
     "data": {
      "text/plain": [
       "3"
      ]
     },
     "execution_count": 13,
     "metadata": {},
     "output_type": "execute_result"
    }
   ],
   "source": [
    "list6=[100,'Asif',17.765]\n",
    "len(list6)"
   ]
  },
  {
   "cell_type": "code",
   "execution_count": null,
   "id": "a613d6b5-4928-4448-9d89-f1c78b18cb94",
   "metadata": {},
   "outputs": [],
   "source": [
    "list7=['Asif',25,[50,100],[150,90],{'John','David}]"
   ]
  },
  {
   "cell_type": "code",
   "execution_count": 34,
   "id": "14457879-9c14-442c-90a8-2a79d95ba8be",
   "metadata": {},
   "outputs": [
    {
     "name": "stdout",
     "output_type": "stream",
     "text": [
      "['one', 'two', 'three']\n",
      "['three', 'four', 'five']\n",
      "['one', 'two', 'three']\n",
      "['one', 'two']\n",
      "['six', 'seven', 'eight']\n",
      "['seven', 'eight']\n",
      "eight\n",
      "['one', 'two', 'three', 'four', 'five', 'six', 'seven', 'eight']\n"
     ]
    }
   ],
   "source": [
    "mylist=['one','two','three','four','five','six','seven','eight'] #slicing\n",
    "print(mylist[0:3])\n",
    "print(mylist[2:5])\n",
    "print(mylist[:3])\n",
    "print(mylist[:2])\n",
    "print(mylist[-3:])\n",
    "print(mylist[-2:])\n",
    "print(mylist[-1])\n",
    "print(mylist[:])"
   ]
  },
  {
   "cell_type": "code",
   "execution_count": 35,
   "id": "f52d3d38-203e-4d7b-82e9-ab0f13185c48",
   "metadata": {},
   "outputs": [
    {
     "data": {
      "text/plain": [
       "['one', 'two', 'three', 'four', 'five', 'six', 'seven', 'eight']"
      ]
     },
     "execution_count": 35,
     "metadata": {},
     "output_type": "execute_result"
    }
   ],
   "source": [
    "mylist"
   ]
  },
  {
   "cell_type": "code",
   "execution_count": 36,
   "id": "c4f53069-66e4-430b-8847-f4e271cc1ae5",
   "metadata": {},
   "outputs": [
    {
     "data": {
      "text/plain": [
       "['one', 'two', 'three', 'four', 'five', 'six', 'seven', 'eight', 'nine']"
      ]
     },
     "execution_count": 36,
     "metadata": {},
     "output_type": "execute_result"
    }
   ],
   "source": [
    "mylist.append('nine') #add element at the end\n",
    "mylist"
   ]
  },
  {
   "cell_type": "code",
   "execution_count": 37,
   "id": "94bdfa3a-8460-480a-a12c-48361a5b8f85",
   "metadata": {},
   "outputs": [
    {
     "data": {
      "text/plain": [
       "['one', 'two', 'three', 'four', 'five', 'six', 'seven', 'eight', 'nine', 'ten']"
      ]
     },
     "execution_count": 37,
     "metadata": {},
     "output_type": "execute_result"
    }
   ],
   "source": [
    " mylist.insert(9,'ten') #add element at index location 9\n",
    "mylist"
   ]
  },
  {
   "cell_type": "code",
   "execution_count": 4,
   "id": "ef448f2e-7bdf-406e-ae6a-f3bdb4ee02c0",
   "metadata": {
    "scrolled": true
   },
   "outputs": [
    {
     "data": {
      "text/plain": [
       "['one',\n",
       " 'ONE',\n",
       " 'two',\n",
       " 'three',\n",
       " 'four',\n",
       " 'five',\n",
       " 'six',\n",
       " 'seven',\n",
       " 'eight',\n",
       " 'nine',\n",
       " 'ten']"
      ]
     },
     "execution_count": 4,
     "metadata": {},
     "output_type": "execute_result"
    }
   ],
   "source": [
    "mylist=['one','two','three','four','five','six','seven','eight','nine','ten']\n",
    "mylist.insert(1,'ONE')\n",
    "mylist"
   ]
  },
  {
   "cell_type": "code",
   "execution_count": 5,
   "id": "d219aaa4-8a6d-4303-9071-e6c619c475d2",
   "metadata": {},
   "outputs": [
    {
     "data": {
      "text/plain": [
       "['one', 'two', 'three', 'four', 'five', 'six', 'seven', 'eight', 'nine', 'ten']"
      ]
     },
     "execution_count": 5,
     "metadata": {},
     "output_type": "execute_result"
    }
   ],
   "source": [
    "mylist.remove('ONE')\n",
    "mylist"
   ]
  },
  {
   "cell_type": "code",
   "execution_count": 6,
   "id": "6742b4ed-c125-43ec-863b-5a794e878249",
   "metadata": {},
   "outputs": [
    {
     "data": {
      "text/plain": [
       "['one', 'two', 'three', 'four', 'five', 'six', 'seven', 'eight', 'nine']"
      ]
     },
     "execution_count": 6,
     "metadata": {},
     "output_type": "execute_result"
    }
   ],
   "source": [
    "mylist.pop()\n",
    "mylist"
   ]
  },
  {
   "cell_type": "code",
   "execution_count": 7,
   "id": "48cff9f6-d1b0-446d-8b49-f5a20ddaba8f",
   "metadata": {},
   "outputs": [
    {
     "data": {
      "text/plain": [
       "['one', 'two', 'three', 'four', 'five', 'six', 'seven', 'eight']"
      ]
     },
     "execution_count": 7,
     "metadata": {},
     "output_type": "execute_result"
    }
   ],
   "source": [
    "mylist.pop(8)\n",
    "mylist"
   ]
  },
  {
   "cell_type": "code",
   "execution_count": 8,
   "id": "e723adac-2d4a-475b-83ee-ede3e314bf50",
   "metadata": {},
   "outputs": [
    {
     "data": {
      "text/plain": [
       "['one', 'two', 'three', 'four', 'five', 'six', 'seven']"
      ]
     },
     "execution_count": 8,
     "metadata": {},
     "output_type": "execute_result"
    }
   ],
   "source": [
    "del mylist[7]\n",
    "mylist"
   ]
  },
  {
   "cell_type": "code",
   "execution_count": 9,
   "id": "386f4221-e21b-4819-adee-ea9d18f44018",
   "metadata": {},
   "outputs": [
    {
     "data": {
      "text/plain": [
       "[1, 2, 3, 'four', 'five', 'six', 'seven']"
      ]
     },
     "execution_count": 9,
     "metadata": {},
     "output_type": "execute_result"
    }
   ],
   "source": [
    "mylist[0]=1 #change value of the string\n",
    "mylist[1]=2\n",
    "mylist[2]=3\n",
    "mylist"
   ]
  },
  {
   "cell_type": "code",
   "execution_count": 10,
   "id": "ca3a3b0b-bdcd-4140-9e00-18438df96c0f",
   "metadata": {},
   "outputs": [
    {
     "data": {
      "text/plain": [
       "[]"
      ]
     },
     "execution_count": 10,
     "metadata": {},
     "output_type": "execute_result"
    }
   ],
   "source": [
    "mylist.clear()\n",
    "mylist"
   ]
  },
  {
   "cell_type": "code",
   "execution_count": 11,
   "id": "3932a4c6-fb7d-4237-ad4a-717aae258d09",
   "metadata": {},
   "outputs": [
    {
     "ename": "NameError",
     "evalue": "name 'mylist' is not defined",
     "output_type": "error",
     "traceback": [
      "\u001b[1;31m---------------------------------------------------------------------------\u001b[0m",
      "\u001b[1;31mNameError\u001b[0m                                 Traceback (most recent call last)",
      "Cell \u001b[1;32mIn[11], line 2\u001b[0m\n\u001b[0;32m      1\u001b[0m \u001b[38;5;28;01mdel\u001b[39;00m mylist\n\u001b[1;32m----> 2\u001b[0m mylist\n",
      "\u001b[1;31mNameError\u001b[0m: name 'mylist' is not defined"
     ]
    }
   ],
   "source": [
    "del mylist\n",
    "mylist"
   ]
  },
  {
   "cell_type": "code",
   "execution_count": null,
   "id": "d42afced-c7db-43c6-98c7-863fe25c46e3",
   "metadata": {},
   "outputs": [],
   "source": [
    "mylist=['one','two','three','four','five','six','seven','eight','nine']"
   ]
  },
  {
   "cell_type": "code",
   "execution_count": null,
   "id": "b512de03-125e-494f-ae97-a242ab39ac4c",
   "metadata": {},
   "outputs": [],
   "source": [
    "mylist1=mylist"
   ]
  },
  {
   "cell_type": "code",
   "execution_count": 13,
   "id": "1df9654e-bbc6-49f5-9f26-5ea983f6304d",
   "metadata": {},
   "outputs": [
    {
     "data": {
      "text/plain": [
       "(1741370262400, 1741370262400)"
      ]
     },
     "execution_count": 13,
     "metadata": {},
     "output_type": "execute_result"
    }
   ],
   "source": [
    "mylist=['one','two','three','four','five','six','seven','eight','nine']\n",
    "mylist1=mylist\n",
    "id(mylist),id(mylist1)"
   ]
  },
  {
   "cell_type": "code",
   "execution_count": 14,
   "id": "a2d48aff-6b63-4988-bf28-24227b3c2b82",
   "metadata": {},
   "outputs": [],
   "source": [
    "mylist2=mylist.copy()"
   ]
  },
  {
   "cell_type": "code",
   "execution_count": 15,
   "id": "b4e68ead-a6ff-44f4-a7f2-f2767fa4edeb",
   "metadata": {},
   "outputs": [
    {
     "data": {
      "text/plain": [
       "1741370311616"
      ]
     },
     "execution_count": 15,
     "metadata": {},
     "output_type": "execute_result"
    }
   ],
   "source": [
    "id(mylist2)"
   ]
  },
  {
   "cell_type": "code",
   "execution_count": 17,
   "id": "81be7982-1f1a-4316-81c6-b8c594423b8d",
   "metadata": {},
   "outputs": [
    {
     "data": {
      "text/plain": [
       "[1, 'two', 'three', 'four', 'five', 'six', 'seven', 'eight', 'nine']"
      ]
     },
     "execution_count": 17,
     "metadata": {},
     "output_type": "execute_result"
    }
   ],
   "source": [
    "mylist[0]=1\n",
    "mylist"
   ]
  },
  {
   "cell_type": "code",
   "execution_count": 18,
   "id": "69e3eda0-ef92-43b3-8132-3fb950a272b3",
   "metadata": {},
   "outputs": [
    {
     "data": {
      "text/plain": [
       "[1, 'two', 'three', 'four', 'five', 'six', 'seven', 'eight', 'nine']"
      ]
     },
     "execution_count": 18,
     "metadata": {},
     "output_type": "execute_result"
    }
   ],
   "source": [
    "mylist1"
   ]
  },
  {
   "cell_type": "code",
   "execution_count": 19,
   "id": "8b9eb6e4-548c-434d-a8b6-80766a37ba1c",
   "metadata": {},
   "outputs": [
    {
     "data": {
      "text/plain": [
       "['one', 'two', 'three', 'four', 'five', 'six', 'seven', 'eight', 'nine']"
      ]
     },
     "execution_count": 19,
     "metadata": {},
     "output_type": "execute_result"
    }
   ],
   "source": [
    "mylist2"
   ]
  },
  {
   "cell_type": "code",
   "execution_count": 20,
   "id": "418448b3-ca48-4c49-9eed-7134872c23b6",
   "metadata": {},
   "outputs": [
    {
     "data": {
      "text/plain": [
       "['one', 'two', 'three', 'four', 'five', 'six', 'seven', 'eight']"
      ]
     },
     "execution_count": 20,
     "metadata": {},
     "output_type": "execute_result"
    }
   ],
   "source": [
    "list1=['one','two','three','four'] #join lists\n",
    "list2=['five','six','seven','eight']\n",
    "list3=list1+list2\n",
    "list3"
   ]
  },
  {
   "cell_type": "code",
   "execution_count": 21,
   "id": "2be38b72-759c-4cf7-8878-adc79e9ea501",
   "metadata": {},
   "outputs": [
    {
     "data": {
      "text/plain": [
       "['one', 'two', 'three', 'four', 'five', 'six', 'seven', 'eight']"
      ]
     },
     "execution_count": 21,
     "metadata": {},
     "output_type": "execute_result"
    }
   ],
   "source": [
    "list1.extend(list2)\n",
    "list1"
   ]
  },
  {
   "cell_type": "code",
   "execution_count": 22,
   "id": "9bdf8bad-af45-4cc8-96a4-ca7a246ab22c",
   "metadata": {},
   "outputs": [
    {
     "data": {
      "text/plain": [
       "['one', 'two', 'three', 'four', 'five', 'six', 'seven', 'eight']"
      ]
     },
     "execution_count": 22,
     "metadata": {},
     "output_type": "execute_result"
    }
   ],
   "source": [
    "list1 #list memebership"
   ]
  },
  {
   "cell_type": "code",
   "execution_count": 23,
   "id": "f4f28881-d989-42fb-8cb5-5a264150a54c",
   "metadata": {},
   "outputs": [
    {
     "data": {
      "text/plain": [
       "True"
      ]
     },
     "execution_count": 23,
     "metadata": {},
     "output_type": "execute_result"
    }
   ],
   "source": [
    "'one'in list1"
   ]
  },
  {
   "cell_type": "code",
   "execution_count": 24,
   "id": "1b4f338a-af76-4bc5-9799-193adeaf78d2",
   "metadata": {},
   "outputs": [
    {
     "data": {
      "text/plain": [
       "False"
      ]
     },
     "execution_count": 24,
     "metadata": {},
     "output_type": "execute_result"
    }
   ],
   "source": [
    "'ten'in list1"
   ]
  },
  {
   "cell_type": "code",
   "execution_count": 25,
   "id": "23084cb8-546a-4082-a194-eba20e501c46",
   "metadata": {},
   "outputs": [
    {
     "name": "stdout",
     "output_type": "stream",
     "text": [
      "Three is present in the list\n"
     ]
    }
   ],
   "source": [
    "if 'three'in list1:\n",
    "    print('Three is present in the list')\n",
    "else:\n",
    "    print('Three is not present in tje list')"
   ]
  },
  {
   "cell_type": "code",
   "execution_count": 26,
   "id": "5051fd55-be9c-4802-a021-9ff9109358a2",
   "metadata": {},
   "outputs": [
    {
     "name": "stdout",
     "output_type": "stream",
     "text": [
      "eleven is not present in the list\n"
     ]
    }
   ],
   "source": [
    "if'eleven'in list1:\n",
    "    print('eleven is present in the list')\n",
    "else:\n",
    "    print('eleven is not present in the list')"
   ]
  },
  {
   "cell_type": "code",
   "execution_count": 27,
   "id": "878bb0f8-72ff-49f0-9d17-139cd9efa740",
   "metadata": {},
   "outputs": [
    {
     "data": {
      "text/plain": [
       "['one', 'two', 'three', 'four', 'five', 'six', 'seven', 'eight']"
      ]
     },
     "execution_count": 27,
     "metadata": {},
     "output_type": "execute_result"
    }
   ],
   "source": [
    "list1"
   ]
  },
  {
   "cell_type": "code",
   "execution_count": 28,
   "id": "ecc604d6-b527-479d-8cf9-4a616fc20b9f",
   "metadata": {},
   "outputs": [
    {
     "data": {
      "text/plain": [
       "['eight', 'seven', 'six', 'five', 'four', 'three', 'two', 'one']"
      ]
     },
     "execution_count": 28,
     "metadata": {},
     "output_type": "execute_result"
    }
   ],
   "source": [
    "list1.reverse()\n",
    "list1"
   ]
  },
  {
   "cell_type": "code",
   "execution_count": 32,
   "id": "6e530762-a383-4b8b-ae15-dac805f1c555",
   "metadata": {},
   "outputs": [
    {
     "ename": "TypeError",
     "evalue": "list[slice(None, None, -1)] is not a generic class",
     "output_type": "error",
     "traceback": [
      "\u001b[1;31m---------------------------------------------------------------------------\u001b[0m",
      "\u001b[1;31mTypeError\u001b[0m                                 Traceback (most recent call last)",
      "Cell \u001b[1;32mIn[32], line 1\u001b[0m\n\u001b[1;32m----> 1\u001b[0m list1\u001b[38;5;241m=\u001b[39mlist1[::\u001b[38;5;241m-\u001b[39m\u001b[38;5;241m1\u001b[39m]\n\u001b[0;32m      2\u001b[0m list1\n",
      "\u001b[1;31mTypeError\u001b[0m: list[slice(None, None, -1)] is not a generic class"
     ]
    }
   ],
   "source": [
    "list1=list1[::-1]\n",
    "list1"
   ]
  },
  {
   "cell_type": "code",
   "execution_count": 33,
   "id": "aab72600-5084-4e6f-8535-20cca3f62514",
   "metadata": {},
   "outputs": [
    {
     "data": {
      "text/plain": [
       "[2, 5, 9, 12, 34, 88, 99]"
      ]
     },
     "execution_count": 33,
     "metadata": {},
     "output_type": "execute_result"
    }
   ],
   "source": [
    "mylist3=[9,5,2,99,12,88,34]\n",
    "mylist3.sort()\n",
    "mylist3"
   ]
  },
  {
   "cell_type": "code",
   "execution_count": 34,
   "id": "21e77633-9054-438f-8f23-f780cca8d3c5",
   "metadata": {},
   "outputs": [
    {
     "data": {
      "text/plain": [
       "[99, 88, 34, 12, 9, 5, 2]"
      ]
     },
     "execution_count": 34,
     "metadata": {},
     "output_type": "execute_result"
    }
   ],
   "source": [
    "mylist3=[9,5,2,99,12,88,34]\n",
    "mylist3.sort(reverse=True)\n",
    "mylist3"
   ]
  },
  {
   "cell_type": "code",
   "execution_count": 36,
   "id": "a507e346-cbc7-46e3-b9b3-789d4d05d955",
   "metadata": {},
   "outputs": [
    {
     "data": {
      "text/plain": [
       "[11, 21, 33, 65, 88, 98]"
      ]
     },
     "execution_count": 36,
     "metadata": {},
     "output_type": "execute_result"
    }
   ],
   "source": [
    "mylist4=[88,65,33,21,11,98]\n",
    "sorted(mylist4)"
   ]
  },
  {
   "cell_type": "code",
   "execution_count": 37,
   "id": "f027b870-659e-4792-a0b9-6b95f53f52fd",
   "metadata": {},
   "outputs": [
    {
     "data": {
      "text/plain": [
       "[88, 65, 33, 21, 11, 98]"
      ]
     },
     "execution_count": 37,
     "metadata": {},
     "output_type": "execute_result"
    }
   ],
   "source": [
    "mylist4"
   ]
  },
  {
   "cell_type": "code",
   "execution_count": 43,
   "id": "2b364cb6-0794-440b-8799-573c145adba8",
   "metadata": {},
   "outputs": [
    {
     "name": "stdout",
     "output_type": "stream",
     "text": [
      "one\n",
      "two\n",
      "three\n",
      "four\n",
      "five\n",
      "six\n",
      "seven\n",
      "eight\n"
     ]
    }
   ],
   "source": [
    "list1=['one','two','three','four','five','six','seven','eight'] #loop through a list\n",
    "for i in list1:\n",
    "    print(i)"
   ]
  },
  {
   "cell_type": "code",
   "execution_count": 48,
   "id": "65c8d035-ff3c-43f6-97bc-22c5c1e381da",
   "metadata": {},
   "outputs": [
    {
     "name": "stdout",
     "output_type": "stream",
     "text": [
      "(0, 'one')\n",
      "(1, 'two')\n",
      "(2, 'three')\n",
      "(3, 'four')\n",
      "(4, 'five')\n",
      "(5, 'six')\n",
      "(6, 'seven')\n",
      "(7, 'eight')\n"
     ]
    }
   ],
   "source": [
    "for i in enumerate(list1):\n",
    "    print(i)"
   ]
  },
  {
   "cell_type": "code",
   "execution_count": 49,
   "id": "3f5ac12c-f39c-4653-9466-765f6d84eb2f",
   "metadata": {},
   "outputs": [
    {
     "data": {
      "text/plain": [
       "3"
      ]
     },
     "execution_count": 49,
     "metadata": {},
     "output_type": "execute_result"
    }
   ],
   "source": [
    "list10=['one','two','three','four','one','one','two','three'] #count\n",
    "list10.count('one')"
   ]
  },
  {
   "cell_type": "code",
   "execution_count": 50,
   "id": "f27a7e5f-2cc8-4f8d-ab76-a413abebdcb2",
   "metadata": {},
   "outputs": [
    {
     "data": {
      "text/plain": [
       "2"
      ]
     },
     "execution_count": 50,
     "metadata": {},
     "output_type": "execute_result"
    }
   ],
   "source": [
    "list10.count('two')"
   ]
  },
  {
   "cell_type": "code",
   "execution_count": 51,
   "id": "42ad3cac-80fe-44d0-89fd-9bb166274832",
   "metadata": {},
   "outputs": [
    {
     "data": {
      "text/plain": [
       "1"
      ]
     },
     "execution_count": 51,
     "metadata": {},
     "output_type": "execute_result"
    }
   ],
   "source": [
    "list10.count('four')"
   ]
  },
  {
   "cell_type": "code",
   "execution_count": 52,
   "id": "63433430-1325-422e-9b6d-ba5362235aaa",
   "metadata": {},
   "outputs": [
    {
     "data": {
      "text/plain": [
       "2"
      ]
     },
     "execution_count": 52,
     "metadata": {},
     "output_type": "execute_result"
    }
   ],
   "source": [
    "list10.count('three')"
   ]
  },
  {
   "cell_type": "code",
   "execution_count": 54,
   "id": "7953e374-c7e6-471e-8a74-a0ed3fb1e82e",
   "metadata": {},
   "outputs": [
    {
     "data": {
      "text/plain": [
       "False"
      ]
     },
     "execution_count": 54,
     "metadata": {},
     "output_type": "execute_result"
    }
   ],
   "source": [
    "L1=[1,2,3,4,0] #All/Any\n",
    "all(L1)"
   ]
  },
  {
   "cell_type": "code",
   "execution_count": 55,
   "id": "8393e2de-d9b7-4de2-a8e7-ccccb1487da2",
   "metadata": {},
   "outputs": [
    {
     "data": {
      "text/plain": [
       "True"
      ]
     },
     "execution_count": 55,
     "metadata": {},
     "output_type": "execute_result"
    }
   ],
   "source": [
    "any(L1)"
   ]
  },
  {
   "cell_type": "code",
   "execution_count": 56,
   "id": "74ae8740-ca59-43cb-b6ce-56a13e6789a7",
   "metadata": {},
   "outputs": [
    {
     "data": {
      "text/plain": [
       "False"
      ]
     },
     "execution_count": 56,
     "metadata": {},
     "output_type": "execute_result"
    }
   ],
   "source": [
    "L2=[1,2,3,4,True,False]\n",
    "all(L2)"
   ]
  },
  {
   "cell_type": "code",
   "execution_count": 57,
   "id": "caac346a-a9b5-4a8f-8e9f-0d6122d39b51",
   "metadata": {},
   "outputs": [
    {
     "data": {
      "text/plain": [
       "True"
      ]
     },
     "execution_count": 57,
     "metadata": {},
     "output_type": "execute_result"
    }
   ],
   "source": [
    "any(L2)"
   ]
  },
  {
   "cell_type": "code",
   "execution_count": 1,
   "id": "f37bf3fb-4b6b-4ed6-9fe3-fe9225856e8d",
   "metadata": {},
   "outputs": [
    {
     "data": {
      "text/plain": [
       "True"
      ]
     },
     "execution_count": 1,
     "metadata": {},
     "output_type": "execute_result"
    }
   ],
   "source": [
    "L3=[1,2,3,True]\n",
    "all(L3)"
   ]
  },
  {
   "cell_type": "code",
   "execution_count": null,
   "id": "df6aa907-a3d3-475b-9efb-de36d13c85ce",
   "metadata": {},
   "outputs": [],
   "source": []
  },
  {
   "cell_type": "code",
   "execution_count": null,
   "id": "6ba5f3b6-648e-4b9b-b6cd-22ebab3682f8",
   "metadata": {},
   "outputs": [],
   "source": []
  },
  {
   "cell_type": "code",
   "execution_count": null,
   "id": "0ae84bfd-9a23-4eda-b5cd-fa56262d635d",
   "metadata": {},
   "outputs": [],
   "source": []
  },
  {
   "cell_type": "code",
   "execution_count": null,
   "id": "e0d56aeb-c650-413c-b50b-db4ba3f7ac0d",
   "metadata": {},
   "outputs": [],
   "source": []
  },
  {
   "cell_type": "code",
   "execution_count": null,
   "id": "988d14fd-8e60-4aa8-a34b-854d78828cb8",
   "metadata": {},
   "outputs": [],
   "source": []
  }
 ],
 "metadata": {
  "kernelspec": {
   "display_name": "Python [conda env:base] *",
   "language": "python",
   "name": "conda-base-py"
  },
  "language_info": {
   "codemirror_mode": {
    "name": "ipython",
    "version": 3
   },
   "file_extension": ".py",
   "mimetype": "text/x-python",
   "name": "python",
   "nbconvert_exporter": "python",
   "pygments_lexer": "ipython3",
   "version": "3.12.7"
  }
 },
 "nbformat": 4,
 "nbformat_minor": 5
}
