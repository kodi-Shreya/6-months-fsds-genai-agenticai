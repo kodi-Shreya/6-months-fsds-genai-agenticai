{
 "cells": [
  {
   "cell_type": "code",
   "execution_count": 1,
   "id": "261f232c-b382-4101-9b34-5a1c6d513bbd",
   "metadata": {},
   "outputs": [
    {
     "name": "stdout",
     "output_type": "stream",
     "text": [
      "hello\n"
     ]
    }
   ],
   "source": [
    "if True:\n",
    "    print('hello')"
   ]
  },
  {
   "cell_type": "code",
   "execution_count": 2,
   "id": "1cefc16b-dd2f-4411-98fd-f34b12e3eb86",
   "metadata": {},
   "outputs": [
    {
     "ename": "IndentationError",
     "evalue": "expected an indented block after 'if' statement on line 1 (1785633973.py, line 2)",
     "output_type": "error",
     "traceback": [
      "\u001b[1;36m  Cell \u001b[1;32mIn[2], line 2\u001b[1;36m\u001b[0m\n\u001b[1;33m    print('hello')\u001b[0m\n\u001b[1;37m    ^\u001b[0m\n\u001b[1;31mIndentationError\u001b[0m\u001b[1;31m:\u001b[0m expected an indented block after 'if' statement on line 1\n"
     ]
    }
   ],
   "source": [
    "if True:\n",
    "print('hello')"
   ]
  },
  {
   "cell_type": "code",
   "execution_count": 3,
   "id": "e5db2b94-33b4-4d70-a9fd-8d7d9ee02698",
   "metadata": {},
   "outputs": [
    {
     "name": "stdout",
     "output_type": "stream",
     "text": [
      "hello\n"
     ]
    }
   ],
   "source": [
    "if True:\n",
    "    print('hello')"
   ]
  },
  {
   "cell_type": "code",
   "execution_count": 4,
   "id": "09d5a8bb-607d-43d9-9fbc-5b6b91a7badd",
   "metadata": {},
   "outputs": [],
   "source": [
    "if False:\n",
    "    print('bye')"
   ]
  },
  {
   "cell_type": "code",
   "execution_count": 5,
   "id": "67804525-ef3f-4ecb-8942-d55b20111f9b",
   "metadata": {},
   "outputs": [
    {
     "name": "stdout",
     "output_type": "stream",
     "text": [
      "Data Science\n",
      "bye for now\n"
     ]
    }
   ],
   "source": [
    "if True:\n",
    "    print('Data Science')\n",
    "    print('bye for now')"
   ]
  },
  {
   "cell_type": "code",
   "execution_count": 6,
   "id": "76297314-b54f-4a93-a8dd-b4a7f9416da8",
   "metadata": {},
   "outputs": [],
   "source": [
    "if False:\n",
    "    print('Data Science')\n",
    "    print('bye for now')"
   ]
  },
  {
   "cell_type": "code",
   "execution_count": 7,
   "id": "cf19b441-590e-4cd1-8b8b-ee5f6aa7fe45",
   "metadata": {},
   "outputs": [
    {
     "name": "stdout",
     "output_type": "stream",
     "text": [
      "Data Science\n",
      "bye for now\n"
     ]
    }
   ],
   "source": [
    "if True:\n",
    "    print('Data Science')\n",
    "    print('bye for now')"
   ]
  },
  {
   "cell_type": "code",
   "execution_count": 8,
   "id": "12cdcd91-d691-4b89-b396-8a1f4c69efb1",
   "metadata": {},
   "outputs": [
    {
     "name": "stdout",
     "output_type": "stream",
     "text": [
      "Data Science\n"
     ]
    }
   ],
   "source": [
    "if True: \n",
    "    print('Data Science')\n",
    "    \n",
    "else:\n",
    "    print('bye for now')"
   ]
  },
  {
   "cell_type": "code",
   "execution_count": 9,
   "id": "91b3913b-2312-4292-847b-b7feee739820",
   "metadata": {},
   "outputs": [
    {
     "name": "stdout",
     "output_type": "stream",
     "text": [
      "bye for now\n"
     ]
    }
   ],
   "source": [
    "if False:\n",
    "    print('Data Science')\n",
    "else:\n",
    "    print('bye for now')"
   ]
  },
  {
   "cell_type": "markdown",
   "id": "825748d6-58ff-43ef-ba22-f184f4201cb9",
   "metadata": {},
   "source": [
    "Even or odd"
   ]
  },
  {
   "cell_type": "code",
   "execution_count": 10,
   "id": "2abb1fd1-8eee-4591-aefa-74d40b4cb018",
   "metadata": {},
   "outputs": [
    {
     "name": "stdout",
     "output_type": "stream",
     "text": [
      "Even number\n"
     ]
    }
   ],
   "source": [
    "x = 4\n",
    "\n",
    "r = x % 2 \n",
    "\n",
    "if r == 0:\n",
    "    print('Even number')"
   ]
  },
  {
   "cell_type": "code",
   "execution_count": 11,
   "id": "1c967cea-5e09-4efd-ab66-26e2cb4f12db",
   "metadata": {},
   "outputs": [],
   "source": [
    "x=5\n",
    "r=x%2\n",
    "if r==0:\n",
    "    print('Even number')"
   ]
  },
  {
   "cell_type": "code",
   "execution_count": 12,
   "id": "d535ab92-bb05-4b05-928b-515b0fecdf4f",
   "metadata": {},
   "outputs": [
    {
     "name": "stdout",
     "output_type": "stream",
     "text": [
      "Even number\n"
     ]
    }
   ],
   "source": [
    "x=6\n",
    "r=x%2\n",
    "if r==0:\n",
    "    print('Even number')\n",
    "    if r==1:\n",
    "        print('odd number')"
   ]
  },
  {
   "cell_type": "code",
   "execution_count": 13,
   "id": "06e7a490-2cc3-496e-b6f1-e36f264e9467",
   "metadata": {},
   "outputs": [
    {
     "name": "stdout",
     "output_type": "stream",
     "text": [
      "Even number\n",
      "odd number\n"
     ]
    }
   ],
   "source": [
    "x=6\n",
    "r=x%2\n",
    "if r==0:\n",
    "    print('Even number')\n",
    "    print('odd number')"
   ]
  },
  {
   "cell_type": "code",
   "execution_count": 14,
   "id": "cb206787-e53d-4cc9-99bf-2aa2efbfef04",
   "metadata": {},
   "outputs": [
    {
     "name": "stdout",
     "output_type": "stream",
     "text": [
      "Even number\n"
     ]
    }
   ],
   "source": [
    "x=4\n",
    "x=x%2\n",
    "if r==0:\n",
    "    print('Even number')\n",
    "else:\n",
    "    print('odd number')"
   ]
  },
  {
   "cell_type": "code",
   "execution_count": 15,
   "id": "476cbf13-91a4-40dc-bacd-0db6bc64fd57",
   "metadata": {},
   "outputs": [
    {
     "name": "stdout",
     "output_type": "stream",
     "text": [
      "odd number\n"
     ]
    }
   ],
   "source": [
    "x=5\n",
    "r=x%2\n",
    "if r==0:  print('Even number')\n",
    "else:   print('odd number')"
   ]
  },
  {
   "cell_type": "code",
   "execution_count": 16,
   "id": "9a52093b-fc14-4d97-aa99-1d39da7e6554",
   "metadata": {},
   "outputs": [
    {
     "name": "stdout",
     "output_type": "stream",
     "text": [
      "Even number\n"
     ]
    }
   ],
   "source": [
    "x=10\n",
    "r=x%2\n",
    "if r==0:\n",
    "    print('Even number')\n",
    "    if r==1:\n",
    "        print('odd number')"
   ]
  },
  {
   "cell_type": "code",
   "execution_count": 17,
   "id": "b126cdce-f843-453e-b324-aea68b1ca51f",
   "metadata": {},
   "outputs": [
    {
     "name": "stdout",
     "output_type": "stream",
     "text": [
      "odd number\n"
     ]
    }
   ],
   "source": [
    "x = 9\n",
    "r = x % 2 \n",
    "\n",
    "if r == 0:\n",
    "    print('Even number')\n",
    "    \n",
    "if r != 0:\n",
    "    print('odd number')"
   ]
  },
  {
   "cell_type": "markdown",
   "id": "e9284782-70c8-4198-80da-6d8f16db13e7",
   "metadata": {},
   "source": [
    "nested if"
   ]
  },
  {
   "cell_type": "code",
   "execution_count": 18,
   "id": "5b9d2365-5810-437f-82d2-45f5ce215346",
   "metadata": {},
   "outputs": [
    {
     "name": "stdout",
     "output_type": "stream",
     "text": [
      "Odd Number\n"
     ]
    }
   ],
   "source": [
    "x = 3\n",
    "r = x % 2\n",
    "\n",
    "if r == 0:\n",
    "    print('Even number')\n",
    "    if x>5:\n",
    "        print('greater number')\n",
    "  \n",
    "else:\n",
    "    print('Odd Number')"
   ]
  },
  {
   "cell_type": "code",
   "execution_count": 19,
   "id": "6a618d0f-e54b-475b-ae88-5d97e55a9643",
   "metadata": {},
   "outputs": [
    {
     "name": "stdout",
     "output_type": "stream",
     "text": [
      "Even number\n",
      "greater number\n"
     ]
    }
   ],
   "source": [
    " x= 6\n",
    "r = x % 2\n",
    "\n",
    "if r == 0:\n",
    "    print('Even number')\n",
    "    \n",
    "    if x>5:\n",
    "        print('greater number')\n",
    "    else:\n",
    "        print('smaller number')\n",
    "  \n",
    "else:\n",
    "    print('Odd Number')"
   ]
  },
  {
   "cell_type": "code",
   "execution_count": 20,
   "id": "04cb46c9-ab7e-4e38-bf50-f8ce96eee0d9",
   "metadata": {},
   "outputs": [
    {
     "name": "stdout",
     "output_type": "stream",
     "text": [
      "four\n"
     ]
    }
   ],
   "source": [
    "x=4\n",
    "if x==1:\n",
    "    print('one')\n",
    "if x==2:\n",
    "    print('Two')\n",
    "if x==3:\n",
    "    print('Three')\n",
    "if x==4:\n",
    "    print('four')"
   ]
  },
  {
   "cell_type": "code",
   "execution_count": 21,
   "id": "01088340-6665-4357-a5ad-dc38dc3d9e7d",
   "metadata": {},
   "outputs": [
    {
     "name": "stdout",
     "output_type": "stream",
     "text": [
      "Two\n"
     ]
    }
   ],
   "source": [
    "x=2\n",
    "if x==1:\n",
    "    print('one')\n",
    "elif x==2:\n",
    "    print('Two')\n",
    "elif x==3:\n",
    "    print('Three')\n",
    "elif x==4:\n",
    "    print('four')"
   ]
  },
  {
   "cell_type": "code",
   "execution_count": 22,
   "id": "f01a5976-fe11-41c6-9b7e-8bfa73a3dd69",
   "metadata": {},
   "outputs": [],
   "source": [
    "x=10\n",
    "if x==1:\n",
    "    print('one')\n",
    "elif x==2:\n",
    "    print('Two')\n",
    "elif x==3:\n",
    "    print('Three')\n",
    "elif x==4:\n",
    "    print('four')"
   ]
  },
  {
   "cell_type": "code",
   "execution_count": 23,
   "id": "1633515e-0be2-4f79-97ba-71eaaa512ae3",
   "metadata": {},
   "outputs": [
    {
     "name": "stdout",
     "output_type": "stream",
     "text": [
      "number not found\n"
     ]
    }
   ],
   "source": [
    "x=10\n",
    "if x==1:\n",
    "    print('one')\n",
    "elif x==2:\n",
    "    print('Two')\n",
    "elif x==3:\n",
    "    print('Three')\n",
    "elif x==4:\n",
    "    print('four')\n",
    "else:\n",
    "    print('number not found')"
   ]
  },
  {
   "cell_type": "code",
   "execution_count": 24,
   "id": "be12fe85-9926-44b0-89e5-0470ab71d19e",
   "metadata": {},
   "outputs": [
    {
     "name": "stdin",
     "output_type": "stream",
     "text": [
      "enter a number: -3\n"
     ]
    },
    {
     "name": "stdout",
     "output_type": "stream",
     "text": [
      "Negative\n"
     ]
    }
   ],
   "source": [
    "num=int(input(\"enter a number:\"))\n",
    "if num>0:\n",
    "    print(\"Positive\")\n",
    "elif num<0:\n",
    "    print(\"Negative\")\n",
    "else:\n",
    "    print(\"zero\")"
   ]
  },
  {
   "cell_type": "code",
   "execution_count": 25,
   "id": "2a193c74-dbde-40f7-875b-eacf9c609aab",
   "metadata": {},
   "outputs": [
    {
     "name": "stdout",
     "output_type": "stream",
     "text": [
      "Eligible to vote.\n"
     ]
    }
   ],
   "source": [
    "age=20\n",
    "if age>=18:\n",
    "    print(\"Eligible to vote.\")"
   ]
  },
  {
   "cell_type": "code",
   "execution_count": 26,
   "id": "07087b8c-84b1-433b-8653-70e042cb62ba",
   "metadata": {},
   "outputs": [
    {
     "name": "stdout",
     "output_type": "stream",
     "text": [
      "Eligible to vote.\n"
     ]
    }
   ],
   "source": [
    "age=19\n",
    "if age>18:print(\"Eligible to vote.\")"
   ]
  },
  {
   "cell_type": "code",
   "execution_count": 27,
   "id": "c97e794d-e8ca-4955-bad0-35936249a8e0",
   "metadata": {},
   "outputs": [
    {
     "name": "stdout",
     "output_type": "stream",
     "text": [
      "Travel for free.\n"
     ]
    }
   ],
   "source": [
    "age=10\n",
    "if age<=12:\n",
    "    print(\"Travel for free.\")\n",
    "else:\n",
    "    print(\"Pay for ticket.\")"
   ]
  },
  {
   "cell_type": "code",
   "execution_count": 28,
   "id": "4b51b5ce-290d-4408-adf4-d242ab5114b3",
   "metadata": {},
   "outputs": [
    {
     "name": "stdout",
     "output_type": "stream",
     "text": [
      "Result:Pass\n"
     ]
    }
   ],
   "source": [
    "marks=45\n",
    "res=\"Pass\"if marks>=40 else\"Fail\"\n",
    "print(f\"Result:{res}\")"
   ]
  },
  {
   "cell_type": "code",
   "execution_count": 29,
   "id": "de938cd3-a716-4291-b08d-7da47c1b302b",
   "metadata": {},
   "outputs": [
    {
     "name": "stdout",
     "output_type": "stream",
     "text": [
      "Young adult.\n"
     ]
    }
   ],
   "source": [
    "age = 25\n",
    "\n",
    "if age <= 12:\n",
    "    print(\"Child.\")\n",
    "elif age <= 19:\n",
    "    print(\"Teenager.\")\n",
    "elif age <= 35:\n",
    "    print(\"Young adult.\")\n",
    "else:\n",
    "    print(\"Adult.\")"
   ]
  },
  {
   "cell_type": "code",
   "execution_count": 30,
   "id": "74a3eaf7-10f2-44eb-820f-c254697de517",
   "metadata": {},
   "outputs": [
    {
     "name": "stdout",
     "output_type": "stream",
     "text": [
      "30% senior discount!\n"
     ]
    }
   ],
   "source": [
    "age=70\n",
    "is_member=True\n",
    "if age>=60:\n",
    "    if is_member:\n",
    "        print(\"30% senior discount!\")\n",
    "    else:\n",
    "        print(\"20% senior discount.\")\n",
    "else:\n",
    "    print(\"Not eligible for a senior discount.\")"
   ]
  },
  {
   "cell_type": "code",
   "execution_count": 31,
   "id": "31b96808-b093-45ab-85c8-174198482951",
   "metadata": {},
   "outputs": [
    {
     "name": "stdout",
     "output_type": "stream",
     "text": [
      "Adult\n"
     ]
    }
   ],
   "source": [
    "age=20\n",
    "s=\"Adult\" if age>=18 else \"Minor\"\n",
    "print(s)"
   ]
  },
  {
   "cell_type": "code",
   "execution_count": 33,
   "id": "3274632f-b295-4b27-aecc-3996aa510091",
   "metadata": {},
   "outputs": [
    {
     "name": "stdout",
     "output_type": "stream",
     "text": [
      "Two or Three\n"
     ]
    }
   ],
   "source": [
    "number=2\n",
    "match number:\n",
    " case 1:\n",
    "    print(\"One\")\n",
    " case 2 | 3:\n",
    "    print(\"Two or Three\")\n",
    " case _:\n",
    "    print(\"Other number\")"
   ]
  },
  {
   "cell_type": "markdown",
   "id": "91835aef-08cd-4f52-a8eb-6781a0499d79",
   "metadata": {},
   "source": [
    "Even or odd"
   ]
  },
  {
   "cell_type": "code",
   "execution_count": 50,
   "id": "0bc61f7f-5909-4c92-860b-2503a09bc776",
   "metadata": {},
   "outputs": [
    {
     "name": "stdout",
     "output_type": "stream",
     "text": [
      "Even\n"
     ]
    }
   ],
   "source": [
    "x = 4\n",
    "if x % 2 == 0:\n",
    "    print(\"Even\")\n"
   ]
  },
  {
   "cell_type": "code",
   "execution_count": 51,
   "id": "0446ef1a-6f59-4341-a0a9-9fd749c1df81",
   "metadata": {},
   "outputs": [
    {
     "name": "stdout",
     "output_type": "stream",
     "text": [
      "Odd\n"
     ]
    }
   ],
   "source": [
    "x=5\n",
    "if x%2==0:\n",
    "    print(\"Even\")\n",
    "else:\n",
    "    print(\"Odd\")"
   ]
  },
  {
   "cell_type": "markdown",
   "id": "9e62117d-8980-45bf-a510-87e6b1ba02a8",
   "metadata": {},
   "source": [
    "Check the Status"
   ]
  },
  {
   "cell_type": "code",
   "execution_count": 53,
   "id": "616b2eaf-ca3b-4727-b9f0-4247a278ce06",
   "metadata": {},
   "outputs": [
    {
     "name": "stdout",
     "output_type": "stream",
     "text": [
      "True\n"
     ]
    }
   ],
   "source": [
    "a = 1\n",
    "b = -1\n",
    "flag = False\n",
    "\n",
    "if a > b and not flag:\n",
    "    print(True)"
   ]
  },
  {
   "cell_type": "code",
   "execution_count": 58,
   "id": "955f27f2-3ad5-48ca-bbd1-33a9ae67f897",
   "metadata": {},
   "outputs": [
    {
     "name": "stdout",
     "output_type": "stream",
     "text": [
      "True\n"
     ]
    }
   ],
   "source": [
    "a = -182\n",
    "b = -9121\n",
    "flag = True\n",
    "\n",
    "if a > b and flag:\n",
    "    print(True)"
   ]
  },
  {
   "cell_type": "markdown",
   "id": "28ed0cd0-d49b-4d67-95aa-338343362c6f",
   "metadata": {},
   "source": [
    "Cat and Hat"
   ]
  },
  {
   "cell_type": "code",
   "execution_count": 59,
   "id": "561c650e-56e1-4652-8217-1eed0dbc79d8",
   "metadata": {},
   "outputs": [
    {
     "name": "stdout",
     "output_type": "stream",
     "text": [
      "True\n"
     ]
    }
   ],
   "source": [
    "str = \"catinahat\"\n",
    "\n",
    "if \"cat\" in str:\n",
    "    print(True)"
   ]
  },
  {
   "cell_type": "code",
   "execution_count": 60,
   "id": "2b44df00-a8b7-408f-af37-52fe2ea319ac",
   "metadata": {},
   "outputs": [
    {
     "name": "stdout",
     "output_type": "stream",
     "text": [
      "True\n"
     ]
    }
   ],
   "source": [
    "str=\"bazingaa\"\n",
    "if \"baz\" in str:\n",
    "    print(True)"
   ]
  },
  {
   "cell_type": "markdown",
   "id": "15baba02-b046-40da-a9ac-e52ad88f5418",
   "metadata": {},
   "source": [
    "The Else statement"
   ]
  },
  {
   "cell_type": "code",
   "execution_count": 61,
   "id": "ed971dbf-edfb-4f3d-bea2-5ddc1b69c8d7",
   "metadata": {},
   "outputs": [
    {
     "name": "stdout",
     "output_type": "stream",
     "text": [
      "Number\n"
     ]
    }
   ],
   "source": [
    "a = 10\n",
    "\n",
    "if a == 10:\n",
    "    print(\"Number\")"
   ]
  },
  {
   "cell_type": "code",
   "execution_count": 62,
   "id": "2e62a4ec-1222-4a3b-b307-b7233323bacc",
   "metadata": {},
   "outputs": [
    {
     "name": "stdout",
     "output_type": "stream",
     "text": [
      "Big\n"
     ]
    }
   ],
   "source": [
    "a=101\n",
    "if a==101:\n",
    "    print(\"Big\")"
   ]
  },
  {
   "cell_type": "markdown",
   "id": "1042fa81-7b53-42bd-9d72-8181b32196f6",
   "metadata": {},
   "source": [
    "The fizzbuzz program"
   ]
  },
  {
   "cell_type": "code",
   "execution_count": 63,
   "id": "224f543e-a56f-47a4-b3a7-ee5a148059f6",
   "metadata": {},
   "outputs": [
    {
     "name": "stdout",
     "output_type": "stream",
     "text": [
      "Fizz\n"
     ]
    }
   ],
   "source": [
    "a = 3\n",
    "\n",
    "if a == 3:\n",
    "    print(\"Fizz\")"
   ]
  },
  {
   "cell_type": "code",
   "execution_count": 64,
   "id": "34e740dd-f97f-4425-8ec5-fd68b2316ba9",
   "metadata": {},
   "outputs": [
    {
     "name": "stdout",
     "output_type": "stream",
     "text": [
      "Buzz\n"
     ]
    }
   ],
   "source": [
    "a=5\n",
    "if a==5:\n",
    "    print(\"Buzz\")"
   ]
  },
  {
   "cell_type": "code",
   "execution_count": 65,
   "id": "cbbc6269-6d00-4655-a747-cd61a81bc432",
   "metadata": {},
   "outputs": [
    {
     "name": "stdout",
     "output_type": "stream",
     "text": [
      "FizzBuzz\n"
     ]
    }
   ],
   "source": [
    "a=15\n",
    "if a==15:\n",
    "    print(\"FizzBuzz\")"
   ]
  },
  {
   "cell_type": "markdown",
   "id": "942b5966-913a-4315-8672-068ff46425e8",
   "metadata": {},
   "source": [
    "Even odd game"
   ]
  },
  {
   "cell_type": "code",
   "execution_count": 66,
   "id": "3e1bdbd5-54a1-46db-8fad-9d46adac789b",
   "metadata": {},
   "outputs": [
    {
     "name": "stdout",
     "output_type": "stream",
     "text": [
      "You\n"
     ]
    }
   ],
   "source": [
    "n = 9\n",
    "\n",
    "if n == 9:\n",
    "    print(\"You\")"
   ]
  },
  {
   "cell_type": "code",
   "execution_count": 67,
   "id": "6f28a62d-8182-42df-aad7-d27989a94a05",
   "metadata": {},
   "outputs": [
    {
     "name": "stdout",
     "output_type": "stream",
     "text": [
      "Friend\n"
     ]
    }
   ],
   "source": [
    "n=4\n",
    "if n==4:\n",
    "    print(\"Friend\")"
   ]
  },
  {
   "cell_type": "markdown",
   "id": "8af6d0c7-f52b-4756-aeb7-92c5f6e59a2c",
   "metadata": {},
   "source": [
    "If conditional statement"
   ]
  },
  {
   "cell_type": "code",
   "execution_count": 68,
   "id": "b2e704d9-e6da-4938-9db8-37f590763412",
   "metadata": {},
   "outputs": [
    {
     "name": "stdout",
     "output_type": "stream",
     "text": [
      "True\n"
     ]
    }
   ],
   "source": [
    "j_angry = True\n",
    "s_angry = True\n",
    "\n",
    "if j_angry and s_angry:\n",
    "    print(True)"
   ]
  },
  {
   "cell_type": "code",
   "execution_count": 70,
   "id": "991cc623-b2ce-44ea-aa0d-02f1462483c5",
   "metadata": {},
   "outputs": [
    {
     "name": "stdout",
     "output_type": "stream",
     "text": [
      "False\n"
     ]
    }
   ],
   "source": [
    "j_angry=True\n",
    "s_angry=False\n",
    "if j_angry and s_angry:\n",
    "    print(True)\n",
    "else:\n",
    "    print(False)"
   ]
  },
  {
   "cell_type": "markdown",
   "id": "50509033-00e9-464e-b6ce-88cb993f0f9c",
   "metadata": {},
   "source": [
    "Odd or Even"
   ]
  },
  {
   "cell_type": "code",
   "execution_count": 71,
   "id": "b7e7d4de-5e88-4611-bfd9-85e79be4ef7c",
   "metadata": {},
   "outputs": [
    {
     "name": "stdout",
     "output_type": "stream",
     "text": [
      "False\n"
     ]
    }
   ],
   "source": [
    "n = 15\n",
    "\n",
    "if n == 10:\n",
    "    print(True)\n",
    "else:\n",
    "    print(False)"
   ]
  },
  {
   "cell_type": "code",
   "execution_count": 72,
   "id": "64dfdcad-9d61-4e3b-8421-c1e3846dc5cb",
   "metadata": {},
   "outputs": [
    {
     "name": "stdout",
     "output_type": "stream",
     "text": [
      "True\n"
     ]
    }
   ],
   "source": [
    "n=44\n",
    "if n==44:\n",
    "    print(True)\n",
    "else:\n",
    "    print(False)"
   ]
  },
  {
   "cell_type": "markdown",
   "id": "aaaeebc7-0757-43c7-afd8-c6c84b80820d",
   "metadata": {},
   "source": [
    "Greatest of three"
   ]
  },
  {
   "cell_type": "code",
   "execution_count": 73,
   "id": "7355097e-f31e-4e39-9cbc-64db90f25757",
   "metadata": {},
   "outputs": [
    {
     "name": "stdout",
     "output_type": "stream",
     "text": [
      "3\n"
     ]
    }
   ],
   "source": [
    "a = 1\n",
    "b = 2\n",
    "c = 3\n",
    "\n",
    "if c == 3:\n",
    "    print(c)"
   ]
  },
  {
   "cell_type": "code",
   "execution_count": 74,
   "id": "7b0e9acd-9978-4494-ae06-784a1cc2c411",
   "metadata": {},
   "outputs": [
    {
     "name": "stdout",
     "output_type": "stream",
     "text": [
      "5\n"
     ]
    }
   ],
   "source": [
    "a=2\n",
    "b=2\n",
    "c=5\n",
    "if c==5:\n",
    "    print(c)"
   ]
  },
  {
   "cell_type": "markdown",
   "id": "de5fdc65-2cab-4fe0-8e70-606f8ba1014b",
   "metadata": {},
   "source": [
    "Leap year"
   ]
  },
  {
   "cell_type": "code",
   "execution_count": 75,
   "id": "2b6e5299-5ccc-4183-9f11-bf4853f5668d",
   "metadata": {},
   "outputs": [
    {
     "name": "stdout",
     "output_type": "stream",
     "text": [
      "True\n"
     ]
    }
   ],
   "source": [
    "year = 2020\n",
    "\n",
    "if (year % 4 == 0 and year % 100 != 0) or (year % 400 == 0):\n",
    "    print(True)\n",
    "else:\n",
    "    print(False)"
   ]
  },
  {
   "cell_type": "code",
   "execution_count": 76,
   "id": "86736649-5512-4b81-956e-a9e94d34cbea",
   "metadata": {},
   "outputs": [
    {
     "name": "stdout",
     "output_type": "stream",
     "text": [
      "False\n"
     ]
    }
   ],
   "source": [
    "year = 2022\n",
    "\n",
    "if (year % 4 == 0 and year % 100 != 0) or (year % 400 == 0):\n",
    "    print(True)\n",
    "else:\n",
    "    print(False)"
   ]
  },
  {
   "cell_type": "markdown",
   "id": "6f7a3b57-b706-4312-bb98-dc963d4b1326",
   "metadata": {},
   "source": [
    "Calculator"
   ]
  },
  {
   "cell_type": "code",
   "execution_count": 77,
   "id": "40a06500-c78d-4048-8a2d-442d5e012e50",
   "metadata": {},
   "outputs": [
    {
     "name": "stdout",
     "output_type": "stream",
     "text": [
      "2\n"
     ]
    }
   ],
   "source": [
    "a = 1\n",
    "b = 2\n",
    "operator = 3\n",
    "\n",
    "if operator == 3:\n",
    "    print(b)"
   ]
  },
  {
   "cell_type": "code",
   "execution_count": 79,
   "id": "e3d44c41-8f12-4577-a475-5e69ab595fe1",
   "metadata": {},
   "outputs": [
    {
     "name": "stdout",
     "output_type": "stream",
     "text": [
      "0\n"
     ]
    }
   ],
   "source": [
    "a = 2\n",
    "b = 2\n",
    "operator = 2\n",
    "\n",
    "if operator == 2:\n",
    "    print(a - b)"
   ]
  },
  {
   "cell_type": "markdown",
   "id": "fa2db378-9cab-461d-a936-c6d00585b1b6",
   "metadata": {},
   "source": [
    "The dice problem"
   ]
  },
  {
   "cell_type": "code",
   "execution_count": 80,
   "id": "a5459d91-32e7-4a70-9f1d-e7dc1389e02f",
   "metadata": {},
   "outputs": [
    {
     "name": "stdout",
     "output_type": "stream",
     "text": [
      "1\n"
     ]
    }
   ],
   "source": [
    "n = 6\n",
    "\n",
    "if n % 3 == 0:\n",
    "    print(1)"
   ]
  },
  {
   "cell_type": "code",
   "execution_count": 81,
   "id": "8662cdc8-fc1f-4d56-afb7-1813e0824a1c",
   "metadata": {},
   "outputs": [
    {
     "name": "stdout",
     "output_type": "stream",
     "text": [
      "5\n"
     ]
    }
   ],
   "source": [
    "n = 2\n",
    "\n",
    "if n == 2:\n",
    "    print(5)"
   ]
  },
  {
   "cell_type": "code",
   "execution_count": null,
   "id": "1c011a32-49de-4fcb-a1fb-1ff11162a39b",
   "metadata": {},
   "outputs": [],
   "source": []
  },
  {
   "cell_type": "code",
   "execution_count": null,
   "id": "c5237623-ee0d-41fa-8c6f-a07de1ce2ec7",
   "metadata": {},
   "outputs": [],
   "source": []
  }
 ],
 "metadata": {
  "kernelspec": {
   "display_name": "Python [conda env:base] *",
   "language": "python",
   "name": "conda-base-py"
  },
  "language_info": {
   "codemirror_mode": {
    "name": "ipython",
    "version": 3
   },
   "file_extension": ".py",
   "mimetype": "text/x-python",
   "name": "python",
   "nbconvert_exporter": "python",
   "pygments_lexer": "ipython3",
   "version": "3.12.7"
  }
 },
 "nbformat": 4,
 "nbformat_minor": 5
}
